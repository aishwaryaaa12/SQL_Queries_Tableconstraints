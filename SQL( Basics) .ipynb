{
 "cells": [
  {
   "cell_type": "markdown",
   "id": "f773b028",
   "metadata": {},
   "source": [
    "# SQL Basic Session:"
   ]
  },
  {
   "cell_type": "markdown",
   "id": "6f14a20f",
   "metadata": {},
   "source": [
    "### Step 1: Installing Dependencies"
   ]
  },
  {
   "cell_type": "code",
   "execution_count": 1,
   "id": "00922925",
   "metadata": {},
   "outputs": [
    {
     "name": "stdout",
     "output_type": "stream",
     "text": [
      "Defaulting to user installation because normal site-packages is not writeable\n",
      "Requirement already satisfied: sqlalchemy==1.3.9 in c:\\users\\aishwarya\\appdata\\roaming\\python\\python39\\site-packages (1.3.9)\n",
      "Requirement already satisfied: ipython-sql in c:\\users\\aishwarya\\appdata\\roaming\\python\\python39\\site-packages (0.4.1)\n",
      "Requirement already satisfied: sqlparse in c:\\users\\aishwarya\\appdata\\roaming\\python\\python39\\site-packages (from ipython-sql) (0.4.3)\n",
      "Requirement already satisfied: six in c:\\programdata\\anaconda3\\lib\\site-packages (from ipython-sql) (1.16.0)\n",
      "Requirement already satisfied: prettytable<1 in c:\\users\\aishwarya\\appdata\\roaming\\python\\python39\\site-packages (from ipython-sql) (0.7.2)\n",
      "Requirement already satisfied: ipython>=1.0 in c:\\programdata\\anaconda3\\lib\\site-packages (from ipython-sql) (8.2.0)\n",
      "Requirement already satisfied: ipython-genutils>=0.1.0 in c:\\programdata\\anaconda3\\lib\\site-packages (from ipython-sql) (0.2.0)\n",
      "Requirement already satisfied: backcall in c:\\programdata\\anaconda3\\lib\\site-packages (from ipython>=1.0->ipython-sql) (0.2.0)\n",
      "Requirement already satisfied: matplotlib-inline in c:\\programdata\\anaconda3\\lib\\site-packages (from ipython>=1.0->ipython-sql) (0.1.2)\n",
      "Requirement already satisfied: jedi>=0.16 in c:\\programdata\\anaconda3\\lib\\site-packages (from ipython>=1.0->ipython-sql) (0.18.1)\n",
      "Requirement already satisfied: prompt-toolkit!=3.0.0,!=3.0.1,<3.1.0,>=2.0.0 in c:\\programdata\\anaconda3\\lib\\site-packages (from ipython>=1.0->ipython-sql) (3.0.20)\n",
      "Requirement already satisfied: pygments>=2.4.0 in c:\\programdata\\anaconda3\\lib\\site-packages (from ipython>=1.0->ipython-sql) (2.11.2)\n",
      "Requirement already satisfied: stack-data in c:\\programdata\\anaconda3\\lib\\site-packages (from ipython>=1.0->ipython-sql) (0.2.0)\n",
      "Requirement already satisfied: setuptools>=18.5 in c:\\programdata\\anaconda3\\lib\\site-packages (from ipython>=1.0->ipython-sql) (61.2.0)\n",
      "Requirement already satisfied: pickleshare in c:\\programdata\\anaconda3\\lib\\site-packages (from ipython>=1.0->ipython-sql) (0.7.5)\n",
      "Requirement already satisfied: decorator in c:\\programdata\\anaconda3\\lib\\site-packages (from ipython>=1.0->ipython-sql) (5.1.1)\n",
      "Requirement already satisfied: colorama in c:\\programdata\\anaconda3\\lib\\site-packages (from ipython>=1.0->ipython-sql) (0.4.4)\n",
      "Requirement already satisfied: traitlets>=5 in c:\\programdata\\anaconda3\\lib\\site-packages (from ipython>=1.0->ipython-sql) (5.1.1)\n",
      "Requirement already satisfied: parso<0.9.0,>=0.8.0 in c:\\programdata\\anaconda3\\lib\\site-packages (from jedi>=0.16->ipython>=1.0->ipython-sql) (0.8.3)\n",
      "Requirement already satisfied: wcwidth in c:\\programdata\\anaconda3\\lib\\site-packages (from prompt-toolkit!=3.0.0,!=3.0.1,<3.1.0,>=2.0.0->ipython>=1.0->ipython-sql) (0.2.5)\n",
      "Requirement already satisfied: executing in c:\\programdata\\anaconda3\\lib\\site-packages (from stack-data->ipython>=1.0->ipython-sql) (0.8.3)\n",
      "Requirement already satisfied: pure-eval in c:\\programdata\\anaconda3\\lib\\site-packages (from stack-data->ipython>=1.0->ipython-sql) (0.2.2)\n",
      "Requirement already satisfied: asttokens in c:\\programdata\\anaconda3\\lib\\site-packages (from stack-data->ipython>=1.0->ipython-sql) (2.0.5)\n"
     ]
    }
   ],
   "source": [
    "!pip install sqlalchemy==1.3.9  ipython-sql"
   ]
  },
  {
   "cell_type": "markdown",
   "id": "9e0d01dd",
   "metadata": {},
   "source": [
    "# Restart And Run All Kernal"
   ]
  },
  {
   "cell_type": "markdown",
   "id": "042bc2f8",
   "metadata": {},
   "source": [
    "~~~\n",
    "Restart----->restart and run all.\n",
    "~~~"
   ]
  },
  {
   "cell_type": "code",
   "execution_count": 4,
   "id": "38bc7d7c",
   "metadata": {},
   "outputs": [
    {
     "name": "stdout",
     "output_type": "stream",
     "text": [
      "The sql extension is already loaded. To reload it, use:\n",
      "  %reload_ext sql\n"
     ]
    }
   ],
   "source": [
    "%load_ext sql"
   ]
  },
  {
   "cell_type": "code",
   "execution_count": 5,
   "id": "15e07a01",
   "metadata": {},
   "outputs": [],
   "source": [
    "import csv, sqlite3\n",
    "con = sqlite3.connect(\"etlhive.db\")\n",
    "cur = con.cursor()"
   ]
  },
  {
   "cell_type": "code",
   "execution_count": 6,
   "id": "e99cd14e",
   "metadata": {},
   "outputs": [],
   "source": [
    "%sql sqlite:///etlhive.db"
   ]
  },
  {
   "cell_type": "markdown",
   "id": "5c516fbd",
   "metadata": {},
   "source": [
    "# Start performing sql Operations"
   ]
  },
  {
   "cell_type": "markdown",
   "id": "ab921df7",
   "metadata": {},
   "source": [
    "### Syntax for creating as table"
   ]
  },
  {
   "cell_type": "markdown",
   "id": "4ac477dd",
   "metadata": {},
   "source": [
    "~~~\n",
    "CREATE TABLE \"table name\"\n",
    "    (column1 datatype1,\n",
    "     column2 datatype2,\n",
    "     column3 datatype3,\n",
    "     column4 datatype4);\n",
    "~~~"
   ]
  },
  {
   "cell_type": "markdown",
   "id": "0f02f4cc",
   "metadata": {},
   "source": [
    "# Example : Create table \"users\" with below columns\n"
   ]
  },
  {
   "cell_type": "markdown",
   "id": "b5cb34a0",
   "metadata": {},
   "source": [
    "~~~\n",
    "1.id\n",
    "2.name\n",
    "3.age\n",
    "4.email\n",
    "~~~"
   ]
  },
  {
   "cell_type": "code",
   "execution_count": 9,
   "id": "b7f719ea",
   "metadata": {},
   "outputs": [
    {
     "name": "stdout",
     "output_type": "stream",
     "text": [
      " * sqlite:///etlhive.db\n",
      "Done.\n"
     ]
    },
    {
     "data": {
      "text/plain": [
       "[]"
      ]
     },
     "execution_count": 9,
     "metadata": {},
     "output_type": "execute_result"
    }
   ],
   "source": [
    "%%sql\n",
    "CREATE TABLE users\n",
    "    (id int,\n",
    "     name varchar(20),\n",
    "     age int,\n",
    "     email varchar(50));"
   ]
  },
  {
   "cell_type": "markdown",
   "id": "3df80d19",
   "metadata": {},
   "source": [
    "# To View your table use SELECT Query"
   ]
  },
  {
   "cell_type": "markdown",
   "id": "575823e8",
   "metadata": {},
   "source": [
    "~~~\n",
    "SELECT ColumnNames from TableName\n",
    "For seeing all columns use * symbol\n",
    "~~~"
   ]
  },
  {
   "cell_type": "code",
   "execution_count": 11,
   "id": "8e2e7b5b",
   "metadata": {},
   "outputs": [
    {
     "name": "stdout",
     "output_type": "stream",
     "text": [
      " * sqlite:///etlhive.db\n",
      "Done.\n"
     ]
    },
    {
     "data": {
      "text/html": [
       "<table>\n",
       "    <tr>\n",
       "        <th>id</th>\n",
       "        <th>name</th>\n",
       "        <th>age</th>\n",
       "        <th>email</th>\n",
       "    </tr>\n",
       "</table>"
      ],
      "text/plain": [
       "[]"
      ]
     },
     "execution_count": 11,
     "metadata": {},
     "output_type": "execute_result"
    }
   ],
   "source": [
    "%%sql\n",
    "SELECT * FROM users"
   ]
  },
  {
   "cell_type": "markdown",
   "id": "b16facd8",
   "metadata": {},
   "source": [
    "# Inserting Data into a table"
   ]
  },
  {
   "cell_type": "markdown",
   "id": "4d73c8f9",
   "metadata": {},
   "source": [
    "~~~\n",
    "INSERT INTO TableName\n",
    "VALUES (column1data, column2data, column3data,....);\n",
    "~~~"
   ]
  },
  {
   "cell_type": "code",
   "execution_count": 16,
   "id": "0c2e8a20",
   "metadata": {},
   "outputs": [
    {
     "name": "stdout",
     "output_type": "stream",
     "text": [
      " * sqlite:///etlhive.db\n",
      "1 rows affected.\n"
     ]
    },
    {
     "data": {
      "text/plain": [
       "[]"
      ]
     },
     "execution_count": 16,
     "metadata": {},
     "output_type": "execute_result"
    }
   ],
   "source": [
    "%%sql\n",
    "INSERT INTO users\n",
    "VALUES (1, 'Aish',22,'Aish.@gmail.com');"
   ]
  },
  {
   "cell_type": "code",
   "execution_count": 17,
   "id": "1c39bf07",
   "metadata": {},
   "outputs": [
    {
     "name": "stdout",
     "output_type": "stream",
     "text": [
      " * sqlite:///etlhive.db\n",
      "Done.\n"
     ]
    },
    {
     "data": {
      "text/html": [
       "<table>\n",
       "    <tr>\n",
       "        <th>id</th>\n",
       "        <th>name</th>\n",
       "        <th>age</th>\n",
       "        <th>email</th>\n",
       "    </tr>\n",
       "    <tr>\n",
       "        <td>1</td>\n",
       "        <td>Utkarsh</td>\n",
       "        <td>28</td>\n",
       "        <td>utkarsh.etlhive@gmail.com</td>\n",
       "    </tr>\n",
       "    <tr>\n",
       "        <td>1</td>\n",
       "        <td>Aish</td>\n",
       "        <td>22</td>\n",
       "        <td>Aish.@gmail.com</td>\n",
       "    </tr>\n",
       "</table>"
      ],
      "text/plain": [
       "[(1, 'Utkarsh', 28, 'utkarsh.etlhive@gmail.com'),\n",
       " (1, 'Aish', 22, 'Aish.@gmail.com')]"
      ]
     },
     "execution_count": 17,
     "metadata": {},
     "output_type": "execute_result"
    }
   ],
   "source": [
    "%%sql\n",
    "SELECT * FROM users"
   ]
  },
  {
   "cell_type": "markdown",
   "id": "7816b880",
   "metadata": {},
   "source": [
    "# Adding Multiple data using Insert Query"
   ]
  },
  {
   "cell_type": "markdown",
   "id": "b3d0ed96",
   "metadata": {},
   "source": [
    "~~~\n",
    "INSERT INTO TableName\n",
    "VALUES (column1data, column2data, column3data,....),\n",
    "       (column1data, column2data, column3data,....),\n",
    "       (column1data, column2data, column3data,....);\n",
    "~~~"
   ]
  },
  {
   "cell_type": "code",
   "execution_count": 22,
   "id": "49b1097e",
   "metadata": {},
   "outputs": [
    {
     "name": "stdout",
     "output_type": "stream",
     "text": [
      " * sqlite:///etlhive.db\n",
      "3 rows affected.\n"
     ]
    },
    {
     "data": {
      "text/plain": [
       "[]"
      ]
     },
     "execution_count": 22,
     "metadata": {},
     "output_type": "execute_result"
    }
   ],
   "source": [
    "%%sql\n",
    "INSERT INTO users\n",
    "VALUES (2,'Aditi',25,'test@test.com'),\n",
    "       (3,'preeti',100,'preeti@test.com'),\n",
    "       (4,'pranit',25,'pranit@test.com');"
   ]
  },
  {
   "cell_type": "code",
   "execution_count": 23,
   "id": "5b0ca7b9",
   "metadata": {},
   "outputs": [
    {
     "name": "stdout",
     "output_type": "stream",
     "text": [
      " * sqlite:///etlhive.db\n",
      "Done.\n"
     ]
    },
    {
     "data": {
      "text/html": [
       "<table>\n",
       "    <tr>\n",
       "        <th>id</th>\n",
       "        <th>name</th>\n",
       "        <th>age</th>\n",
       "        <th>email</th>\n",
       "    </tr>\n",
       "    <tr>\n",
       "        <td>1</td>\n",
       "        <td>Utkarsh</td>\n",
       "        <td>28</td>\n",
       "        <td>utkarsh.etlhive@gmail.com</td>\n",
       "    </tr>\n",
       "    <tr>\n",
       "        <td>1</td>\n",
       "        <td>Aish</td>\n",
       "        <td>22</td>\n",
       "        <td>Aish.@gmail.com</td>\n",
       "    </tr>\n",
       "    <tr>\n",
       "        <td>2</td>\n",
       "        <td>Aditi</td>\n",
       "        <td>25</td>\n",
       "        <td>test@test.com</td>\n",
       "    </tr>\n",
       "    <tr>\n",
       "        <td>3</td>\n",
       "        <td>Sarthak</td>\n",
       "        <td>32</td>\n",
       "        <td>sarthak@test.com</td>\n",
       "    </tr>\n",
       "    <tr>\n",
       "        <td>4</td>\n",
       "        <td>Raman</td>\n",
       "        <td>40</td>\n",
       "        <td>raman@test.com</td>\n",
       "    </tr>\n",
       "    <tr>\n",
       "        <td>2</td>\n",
       "        <td>Aditi</td>\n",
       "        <td>25</td>\n",
       "        <td>test@test.com</td>\n",
       "    </tr>\n",
       "    <tr>\n",
       "        <td>3</td>\n",
       "        <td>preeti</td>\n",
       "        <td>100</td>\n",
       "        <td>preeti@test.com</td>\n",
       "    </tr>\n",
       "    <tr>\n",
       "        <td>4</td>\n",
       "        <td>pranit</td>\n",
       "        <td>25</td>\n",
       "        <td>pranit@test.com</td>\n",
       "    </tr>\n",
       "</table>"
      ],
      "text/plain": [
       "[(1, 'Utkarsh', 28, 'utkarsh.etlhive@gmail.com'),\n",
       " (1, 'Aish', 22, 'Aish.@gmail.com'),\n",
       " (2, 'Aditi', 25, 'test@test.com'),\n",
       " (3, 'Sarthak', 32, 'sarthak@test.com'),\n",
       " (4, 'Raman', 40, 'raman@test.com'),\n",
       " (2, 'Aditi', 25, 'test@test.com'),\n",
       " (3, 'preeti', 100, 'preeti@test.com'),\n",
       " (4, 'pranit', 25, 'pranit@test.com')]"
      ]
     },
     "execution_count": 23,
     "metadata": {},
     "output_type": "execute_result"
    }
   ],
   "source": [
    "%%sql\n",
    "SELECT * FROM users"
   ]
  },
  {
   "cell_type": "code",
   "execution_count": 21,
   "id": "8323607b",
   "metadata": {},
   "outputs": [
    {
     "name": "stdout",
     "output_type": "stream",
     "text": [
      "200\n"
     ]
    }
   ],
   "source": [
    "a = 10\n",
    "b = 20\n",
    "print(a*b)"
   ]
  },
  {
   "cell_type": "code",
   "execution_count": null,
   "id": "f3848a01",
   "metadata": {},
   "outputs": [],
   "source": []
  }
 ],
 "metadata": {
  "kernelspec": {
   "display_name": "Python 3 (ipykernel)",
   "language": "python",
   "name": "python3"
  },
  "language_info": {
   "codemirror_mode": {
    "name": "ipython",
    "version": 3
   },
   "file_extension": ".py",
   "mimetype": "text/x-python",
   "name": "python",
   "nbconvert_exporter": "python",
   "pygments_lexer": "ipython3",
   "version": "3.9.12"
  }
 },
 "nbformat": 4,
 "nbformat_minor": 5
}
