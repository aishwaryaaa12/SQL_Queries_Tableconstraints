{
 "cells": [
  {
   "cell_type": "markdown",
   "id": "9dc1264e",
   "metadata": {},
   "source": [
    "# Basic SQL imports"
   ]
  },
  {
   "cell_type": "code",
   "execution_count": 1,
   "id": "ae19be0a",
   "metadata": {},
   "outputs": [],
   "source": [
    "%load_ext sql"
   ]
  },
  {
   "cell_type": "code",
   "execution_count": 2,
   "id": "d07e8907",
   "metadata": {},
   "outputs": [],
   "source": [
    "import csv, sqlite3\n",
    "con = sqlite3.connect('MyEmpData.db')\n",
    "cur = con.cursor()"
   ]
  },
  {
   "cell_type": "code",
   "execution_count": 3,
   "id": "0b2d7efd",
   "metadata": {},
   "outputs": [],
   "source": [
    "%sql sqlite:///MyEmpData.db"
   ]
  },
  {
   "cell_type": "code",
   "execution_count": 4,
   "id": "a803fd30",
   "metadata": {},
   "outputs": [],
   "source": [
    "from warnings import filterwarnings\n",
    "filterwarnings(\"ignore\")"
   ]
  },
  {
   "cell_type": "markdown",
   "id": "e4a37042",
   "metadata": {},
   "source": [
    "# Read Dataset"
   ]
  },
  {
   "cell_type": "code",
   "execution_count": 5,
   "id": "e2c3c079",
   "metadata": {},
   "outputs": [],
   "source": [
    "import pandas as pd"
   ]
  },
  {
   "cell_type": "code",
   "execution_count": 6,
   "id": "dafa32b1",
   "metadata": {},
   "outputs": [
    {
     "data": {
      "text/html": [
       "<div>\n",
       "<style scoped>\n",
       "    .dataframe tbody tr th:only-of-type {\n",
       "        vertical-align: middle;\n",
       "    }\n",
       "\n",
       "    .dataframe tbody tr th {\n",
       "        vertical-align: top;\n",
       "    }\n",
       "\n",
       "    .dataframe thead th {\n",
       "        text-align: right;\n",
       "    }\n",
       "</style>\n",
       "<table border=\"1\" class=\"dataframe\">\n",
       "  <thead>\n",
       "    <tr style=\"text-align: right;\">\n",
       "      <th></th>\n",
       "      <th>empid</th>\n",
       "      <th>fname</th>\n",
       "      <th>lname</th>\n",
       "      <th>sal</th>\n",
       "      <th>did</th>\n",
       "    </tr>\n",
       "  </thead>\n",
       "  <tbody>\n",
       "    <tr>\n",
       "      <th>0</th>\n",
       "      <td>101</td>\n",
       "      <td>Utkarsh</td>\n",
       "      <td>Gaikwad</td>\n",
       "      <td>20000</td>\n",
       "      <td>10</td>\n",
       "    </tr>\n",
       "    <tr>\n",
       "      <th>1</th>\n",
       "      <td>102</td>\n",
       "      <td>Sarthak</td>\n",
       "      <td>Sharma</td>\n",
       "      <td>25000</td>\n",
       "      <td>20</td>\n",
       "    </tr>\n",
       "    <tr>\n",
       "      <th>2</th>\n",
       "      <td>103</td>\n",
       "      <td>Raman</td>\n",
       "      <td>Verma</td>\n",
       "      <td>35000</td>\n",
       "      <td>30</td>\n",
       "    </tr>\n",
       "    <tr>\n",
       "      <th>3</th>\n",
       "      <td>104</td>\n",
       "      <td>Rakesh</td>\n",
       "      <td>Jain</td>\n",
       "      <td>40000</td>\n",
       "      <td>20</td>\n",
       "    </tr>\n",
       "    <tr>\n",
       "      <th>4</th>\n",
       "      <td>105</td>\n",
       "      <td>Aditi</td>\n",
       "      <td>Naik</td>\n",
       "      <td>37000</td>\n",
       "      <td>20</td>\n",
       "    </tr>\n",
       "  </tbody>\n",
       "</table>\n",
       "</div>"
      ],
      "text/plain": [
       "   empid    fname    lname    sal  did\n",
       "0    101  Utkarsh  Gaikwad  20000   10\n",
       "1    102  Sarthak   Sharma  25000   20\n",
       "2    103    Raman    Verma  35000   30\n",
       "3    104   Rakesh     Jain  40000   20\n",
       "4    105    Aditi     Naik  37000   20"
      ]
     },
     "execution_count": 6,
     "metadata": {},
     "output_type": "execute_result"
    }
   ],
   "source": [
    "A=pd.read_csv(r\"C:\\Users\\Aishwarya\\OneDrive\\Desktop\\SQL\\3rd\\EmployeeData.csv\")\n",
    "A.head()"
   ]
  },
  {
   "cell_type": "markdown",
   "id": "90f98baf",
   "metadata": {},
   "source": [
    "# Import the dataframe to sql"
   ]
  },
  {
   "cell_type": "code",
   "execution_count": 7,
   "id": "3c9a7f57",
   "metadata": {},
   "outputs": [
    {
     "data": {
      "text/plain": [
       "10"
      ]
     },
     "execution_count": 7,
     "metadata": {},
     "output_type": "execute_result"
    }
   ],
   "source": [
    "A.to_sql(\"Employees\",con,if_exists=\"replace\",index=False)"
   ]
  },
  {
   "cell_type": "markdown",
   "id": "977a23d9",
   "metadata": {},
   "source": [
    "# Seeing the Entire data with select query"
   ]
  },
  {
   "cell_type": "code",
   "execution_count": 8,
   "id": "a94a061c",
   "metadata": {},
   "outputs": [
    {
     "name": "stdout",
     "output_type": "stream",
     "text": [
      " * sqlite:///MyEmpData.db\n",
      "Done.\n"
     ]
    },
    {
     "data": {
      "text/html": [
       "<table>\n",
       "    <tr>\n",
       "        <th>empid</th>\n",
       "        <th>fname</th>\n",
       "        <th>lname</th>\n",
       "        <th>sal</th>\n",
       "        <th>did</th>\n",
       "    </tr>\n",
       "    <tr>\n",
       "        <td>101</td>\n",
       "        <td>Utkarsh</td>\n",
       "        <td>Gaikwad</td>\n",
       "        <td>20000</td>\n",
       "        <td>10</td>\n",
       "    </tr>\n",
       "    <tr>\n",
       "        <td>102</td>\n",
       "        <td>Sarthak</td>\n",
       "        <td>Sharma</td>\n",
       "        <td>25000</td>\n",
       "        <td>20</td>\n",
       "    </tr>\n",
       "    <tr>\n",
       "        <td>103</td>\n",
       "        <td>Raman</td>\n",
       "        <td>Verma</td>\n",
       "        <td>35000</td>\n",
       "        <td>30</td>\n",
       "    </tr>\n",
       "    <tr>\n",
       "        <td>104</td>\n",
       "        <td>Rakesh</td>\n",
       "        <td>Jain</td>\n",
       "        <td>40000</td>\n",
       "        <td>20</td>\n",
       "    </tr>\n",
       "    <tr>\n",
       "        <td>105</td>\n",
       "        <td>Aditi</td>\n",
       "        <td>Naik</td>\n",
       "        <td>37000</td>\n",
       "        <td>20</td>\n",
       "    </tr>\n",
       "    <tr>\n",
       "        <td>106</td>\n",
       "        <td>Suresh</td>\n",
       "        <td>More</td>\n",
       "        <td>36000</td>\n",
       "        <td>10</td>\n",
       "    </tr>\n",
       "    <tr>\n",
       "        <td>107</td>\n",
       "        <td>Sayali</td>\n",
       "        <td>Kale</td>\n",
       "        <td>40000</td>\n",
       "        <td>30</td>\n",
       "    </tr>\n",
       "    <tr>\n",
       "        <td>108</td>\n",
       "        <td>Narayan</td>\n",
       "        <td>More</td>\n",
       "        <td>45000</td>\n",
       "        <td>30</td>\n",
       "    </tr>\n",
       "    <tr>\n",
       "        <td>109</td>\n",
       "        <td>Atif</td>\n",
       "        <td>Khan</td>\n",
       "        <td>34000</td>\n",
       "        <td>10</td>\n",
       "    </tr>\n",
       "    <tr>\n",
       "        <td>110</td>\n",
       "        <td>Ramesh</td>\n",
       "        <td>Gaud</td>\n",
       "        <td>26000</td>\n",
       "        <td>10</td>\n",
       "    </tr>\n",
       "</table>"
      ],
      "text/plain": [
       "[(101, 'Utkarsh', 'Gaikwad', 20000, 10),\n",
       " (102, 'Sarthak', 'Sharma', 25000, 20),\n",
       " (103, 'Raman', 'Verma', 35000, 30),\n",
       " (104, 'Rakesh', 'Jain', 40000, 20),\n",
       " (105, 'Aditi', 'Naik', 37000, 20),\n",
       " (106, 'Suresh', 'More', 36000, 10),\n",
       " (107, 'Sayali', 'Kale', 40000, 30),\n",
       " (108, 'Narayan', 'More', 45000, 30),\n",
       " (109, 'Atif', 'Khan', 34000, 10),\n",
       " (110, 'Ramesh', 'Gaud', 26000, 10)]"
      ]
     },
     "execution_count": 8,
     "metadata": {},
     "output_type": "execute_result"
    }
   ],
   "source": [
    "%%sql\n",
    "SELECT * FROM Employees"
   ]
  },
  {
   "cell_type": "markdown",
   "id": "2829bbb9",
   "metadata": {},
   "source": [
    "# Select Specific Columns from the data"
   ]
  },
  {
   "cell_type": "code",
   "execution_count": 9,
   "id": "219d6453",
   "metadata": {},
   "outputs": [
    {
     "name": "stdout",
     "output_type": "stream",
     "text": [
      " * sqlite:///MyEmpData.db\n",
      "Done.\n"
     ]
    },
    {
     "data": {
      "text/html": [
       "<table>\n",
       "    <tr>\n",
       "        <th>fname</th>\n",
       "        <th>lname</th>\n",
       "    </tr>\n",
       "    <tr>\n",
       "        <td>Utkarsh</td>\n",
       "        <td>Gaikwad</td>\n",
       "    </tr>\n",
       "    <tr>\n",
       "        <td>Sarthak</td>\n",
       "        <td>Sharma</td>\n",
       "    </tr>\n",
       "    <tr>\n",
       "        <td>Raman</td>\n",
       "        <td>Verma</td>\n",
       "    </tr>\n",
       "    <tr>\n",
       "        <td>Rakesh</td>\n",
       "        <td>Jain</td>\n",
       "    </tr>\n",
       "    <tr>\n",
       "        <td>Aditi</td>\n",
       "        <td>Naik</td>\n",
       "    </tr>\n",
       "    <tr>\n",
       "        <td>Suresh</td>\n",
       "        <td>More</td>\n",
       "    </tr>\n",
       "    <tr>\n",
       "        <td>Sayali</td>\n",
       "        <td>Kale</td>\n",
       "    </tr>\n",
       "    <tr>\n",
       "        <td>Narayan</td>\n",
       "        <td>More</td>\n",
       "    </tr>\n",
       "    <tr>\n",
       "        <td>Atif</td>\n",
       "        <td>Khan</td>\n",
       "    </tr>\n",
       "    <tr>\n",
       "        <td>Ramesh</td>\n",
       "        <td>Gaud</td>\n",
       "    </tr>\n",
       "</table>"
      ],
      "text/plain": [
       "[('Utkarsh', 'Gaikwad'),\n",
       " ('Sarthak', 'Sharma'),\n",
       " ('Raman', 'Verma'),\n",
       " ('Rakesh', 'Jain'),\n",
       " ('Aditi', 'Naik'),\n",
       " ('Suresh', 'More'),\n",
       " ('Sayali', 'Kale'),\n",
       " ('Narayan', 'More'),\n",
       " ('Atif', 'Khan'),\n",
       " ('Ramesh', 'Gaud')]"
      ]
     },
     "execution_count": 9,
     "metadata": {},
     "output_type": "execute_result"
    }
   ],
   "source": [
    "%%sql\n",
    "SELECT fname,lname FROM Employees;"
   ]
  },
  {
   "cell_type": "code",
   "execution_count": 10,
   "id": "53d727b5",
   "metadata": {},
   "outputs": [
    {
     "name": "stdout",
     "output_type": "stream",
     "text": [
      " * sqlite:///MyEmpData.db\n",
      "Done.\n"
     ]
    },
    {
     "data": {
      "text/html": [
       "<table>\n",
       "    <tr>\n",
       "        <th>empid</th>\n",
       "        <th>sal</th>\n",
       "    </tr>\n",
       "    <tr>\n",
       "        <td>101</td>\n",
       "        <td>20000</td>\n",
       "    </tr>\n",
       "    <tr>\n",
       "        <td>102</td>\n",
       "        <td>25000</td>\n",
       "    </tr>\n",
       "    <tr>\n",
       "        <td>103</td>\n",
       "        <td>35000</td>\n",
       "    </tr>\n",
       "    <tr>\n",
       "        <td>104</td>\n",
       "        <td>40000</td>\n",
       "    </tr>\n",
       "    <tr>\n",
       "        <td>105</td>\n",
       "        <td>37000</td>\n",
       "    </tr>\n",
       "    <tr>\n",
       "        <td>106</td>\n",
       "        <td>36000</td>\n",
       "    </tr>\n",
       "    <tr>\n",
       "        <td>107</td>\n",
       "        <td>40000</td>\n",
       "    </tr>\n",
       "    <tr>\n",
       "        <td>108</td>\n",
       "        <td>45000</td>\n",
       "    </tr>\n",
       "    <tr>\n",
       "        <td>109</td>\n",
       "        <td>34000</td>\n",
       "    </tr>\n",
       "    <tr>\n",
       "        <td>110</td>\n",
       "        <td>26000</td>\n",
       "    </tr>\n",
       "</table>"
      ],
      "text/plain": [
       "[(101, 20000),\n",
       " (102, 25000),\n",
       " (103, 35000),\n",
       " (104, 40000),\n",
       " (105, 37000),\n",
       " (106, 36000),\n",
       " (107, 40000),\n",
       " (108, 45000),\n",
       " (109, 34000),\n",
       " (110, 26000)]"
      ]
     },
     "execution_count": 10,
     "metadata": {},
     "output_type": "execute_result"
    }
   ],
   "source": [
    "%%sql\n",
    "SELECT empid,sal FROM Employees;"
   ]
  },
  {
   "cell_type": "markdown",
   "id": "95d1ce19",
   "metadata": {},
   "source": [
    "#  *Where Clause"
   ]
  },
  {
   "cell_type": "markdown",
   "id": "b6eb8c06",
   "metadata": {},
   "source": [
    "## Find out employees who's salary is greater than or equal to 35000"
   ]
  },
  {
   "cell_type": "code",
   "execution_count": 12,
   "id": "169a358e",
   "metadata": {},
   "outputs": [
    {
     "name": "stdout",
     "output_type": "stream",
     "text": [
      " * sqlite:///MyEmpData.db\n",
      "Done.\n"
     ]
    },
    {
     "data": {
      "text/html": [
       "<table>\n",
       "    <tr>\n",
       "        <th>empid</th>\n",
       "        <th>fname</th>\n",
       "        <th>lname</th>\n",
       "        <th>sal</th>\n",
       "        <th>did</th>\n",
       "    </tr>\n",
       "    <tr>\n",
       "        <td>103</td>\n",
       "        <td>Raman</td>\n",
       "        <td>Verma</td>\n",
       "        <td>35000</td>\n",
       "        <td>30</td>\n",
       "    </tr>\n",
       "    <tr>\n",
       "        <td>104</td>\n",
       "        <td>Rakesh</td>\n",
       "        <td>Jain</td>\n",
       "        <td>40000</td>\n",
       "        <td>20</td>\n",
       "    </tr>\n",
       "    <tr>\n",
       "        <td>105</td>\n",
       "        <td>Aditi</td>\n",
       "        <td>Naik</td>\n",
       "        <td>37000</td>\n",
       "        <td>20</td>\n",
       "    </tr>\n",
       "    <tr>\n",
       "        <td>106</td>\n",
       "        <td>Suresh</td>\n",
       "        <td>More</td>\n",
       "        <td>36000</td>\n",
       "        <td>10</td>\n",
       "    </tr>\n",
       "    <tr>\n",
       "        <td>107</td>\n",
       "        <td>Sayali</td>\n",
       "        <td>Kale</td>\n",
       "        <td>40000</td>\n",
       "        <td>30</td>\n",
       "    </tr>\n",
       "    <tr>\n",
       "        <td>108</td>\n",
       "        <td>Narayan</td>\n",
       "        <td>More</td>\n",
       "        <td>45000</td>\n",
       "        <td>30</td>\n",
       "    </tr>\n",
       "</table>"
      ],
      "text/plain": [
       "[(103, 'Raman', 'Verma', 35000, 30),\n",
       " (104, 'Rakesh', 'Jain', 40000, 20),\n",
       " (105, 'Aditi', 'Naik', 37000, 20),\n",
       " (106, 'Suresh', 'More', 36000, 10),\n",
       " (107, 'Sayali', 'Kale', 40000, 30),\n",
       " (108, 'Narayan', 'More', 45000, 30)]"
      ]
     },
     "execution_count": 12,
     "metadata": {},
     "output_type": "execute_result"
    }
   ],
   "source": [
    "%%sql\n",
    "SELECT * FROM Employees\n",
    "WHERE sal>=35000;"
   ]
  },
  {
   "cell_type": "code",
   "execution_count": 14,
   "id": "bf40488f",
   "metadata": {},
   "outputs": [
    {
     "name": "stdout",
     "output_type": "stream",
     "text": [
      " * sqlite:///MyEmpData.db\n",
      "Done.\n"
     ]
    },
    {
     "data": {
      "text/html": [
       "<table>\n",
       "    <tr>\n",
       "        <th>fname</th>\n",
       "        <th>sal</th>\n",
       "    </tr>\n",
       "    <tr>\n",
       "        <td>Raman</td>\n",
       "        <td>35000</td>\n",
       "    </tr>\n",
       "    <tr>\n",
       "        <td>Rakesh</td>\n",
       "        <td>40000</td>\n",
       "    </tr>\n",
       "    <tr>\n",
       "        <td>Aditi</td>\n",
       "        <td>37000</td>\n",
       "    </tr>\n",
       "    <tr>\n",
       "        <td>Suresh</td>\n",
       "        <td>36000</td>\n",
       "    </tr>\n",
       "    <tr>\n",
       "        <td>Sayali</td>\n",
       "        <td>40000</td>\n",
       "    </tr>\n",
       "    <tr>\n",
       "        <td>Narayan</td>\n",
       "        <td>45000</td>\n",
       "    </tr>\n",
       "</table>"
      ],
      "text/plain": [
       "[('Raman', 35000),\n",
       " ('Rakesh', 40000),\n",
       " ('Aditi', 37000),\n",
       " ('Suresh', 36000),\n",
       " ('Sayali', 40000),\n",
       " ('Narayan', 45000)]"
      ]
     },
     "execution_count": 14,
     "metadata": {},
     "output_type": "execute_result"
    }
   ],
   "source": [
    "%%sql\n",
    "SELECT fname,sal FROM Employees\n",
    "WHERE sal>=35000;"
   ]
  },
  {
   "cell_type": "code",
   "execution_count": 15,
   "id": "6500e66a",
   "metadata": {},
   "outputs": [
    {
     "data": {
      "text/html": [
       "<div>\n",
       "<style scoped>\n",
       "    .dataframe tbody tr th:only-of-type {\n",
       "        vertical-align: middle;\n",
       "    }\n",
       "\n",
       "    .dataframe tbody tr th {\n",
       "        vertical-align: top;\n",
       "    }\n",
       "\n",
       "    .dataframe thead th {\n",
       "        text-align: right;\n",
       "    }\n",
       "</style>\n",
       "<table border=\"1\" class=\"dataframe\">\n",
       "  <thead>\n",
       "    <tr style=\"text-align: right;\">\n",
       "      <th></th>\n",
       "      <th>empid</th>\n",
       "      <th>fname</th>\n",
       "      <th>lname</th>\n",
       "      <th>sal</th>\n",
       "      <th>did</th>\n",
       "    </tr>\n",
       "  </thead>\n",
       "  <tbody>\n",
       "    <tr>\n",
       "      <th>2</th>\n",
       "      <td>103</td>\n",
       "      <td>Raman</td>\n",
       "      <td>Verma</td>\n",
       "      <td>35000</td>\n",
       "      <td>30</td>\n",
       "    </tr>\n",
       "    <tr>\n",
       "      <th>3</th>\n",
       "      <td>104</td>\n",
       "      <td>Rakesh</td>\n",
       "      <td>Jain</td>\n",
       "      <td>40000</td>\n",
       "      <td>20</td>\n",
       "    </tr>\n",
       "    <tr>\n",
       "      <th>4</th>\n",
       "      <td>105</td>\n",
       "      <td>Aditi</td>\n",
       "      <td>Naik</td>\n",
       "      <td>37000</td>\n",
       "      <td>20</td>\n",
       "    </tr>\n",
       "    <tr>\n",
       "      <th>5</th>\n",
       "      <td>106</td>\n",
       "      <td>Suresh</td>\n",
       "      <td>More</td>\n",
       "      <td>36000</td>\n",
       "      <td>10</td>\n",
       "    </tr>\n",
       "    <tr>\n",
       "      <th>6</th>\n",
       "      <td>107</td>\n",
       "      <td>Sayali</td>\n",
       "      <td>Kale</td>\n",
       "      <td>40000</td>\n",
       "      <td>30</td>\n",
       "    </tr>\n",
       "    <tr>\n",
       "      <th>7</th>\n",
       "      <td>108</td>\n",
       "      <td>Narayan</td>\n",
       "      <td>More</td>\n",
       "      <td>45000</td>\n",
       "      <td>30</td>\n",
       "    </tr>\n",
       "  </tbody>\n",
       "</table>\n",
       "</div>"
      ],
      "text/plain": [
       "   empid    fname  lname    sal  did\n",
       "2    103    Raman  Verma  35000   30\n",
       "3    104   Rakesh   Jain  40000   20\n",
       "4    105    Aditi   Naik  37000   20\n",
       "5    106   Suresh   More  36000   10\n",
       "6    107   Sayali   Kale  40000   30\n",
       "7    108  Narayan   More  45000   30"
      ]
     },
     "execution_count": 15,
     "metadata": {},
     "output_type": "execute_result"
    }
   ],
   "source": [
    "A[A.sal>=35000]"
   ]
  },
  {
   "cell_type": "markdown",
   "id": "fb459f04",
   "metadata": {},
   "source": [
    "# Find out employee name who are in did 20"
   ]
  },
  {
   "cell_type": "code",
   "execution_count": 16,
   "id": "aea857b3",
   "metadata": {},
   "outputs": [
    {
     "name": "stdout",
     "output_type": "stream",
     "text": [
      " * sqlite:///MyEmpData.db\n",
      "Done.\n"
     ]
    },
    {
     "data": {
      "text/html": [
       "<table>\n",
       "    <tr>\n",
       "        <th>fname</th>\n",
       "        <th>lname</th>\n",
       "        <th>did</th>\n",
       "    </tr>\n",
       "    <tr>\n",
       "        <td>Sarthak</td>\n",
       "        <td>Sharma</td>\n",
       "        <td>20</td>\n",
       "    </tr>\n",
       "    <tr>\n",
       "        <td>Rakesh</td>\n",
       "        <td>Jain</td>\n",
       "        <td>20</td>\n",
       "    </tr>\n",
       "    <tr>\n",
       "        <td>Aditi</td>\n",
       "        <td>Naik</td>\n",
       "        <td>20</td>\n",
       "    </tr>\n",
       "</table>"
      ],
      "text/plain": [
       "[('Sarthak', 'Sharma', 20), ('Rakesh', 'Jain', 20), ('Aditi', 'Naik', 20)]"
      ]
     },
     "execution_count": 16,
     "metadata": {},
     "output_type": "execute_result"
    }
   ],
   "source": [
    "%%sql\n",
    "SELECT fname,lname,did FROM Employees\n",
    "WHERE did=20;"
   ]
  },
  {
   "cell_type": "markdown",
   "id": "dcb6f3d1",
   "metadata": {},
   "source": [
    "# Find out employee first names starting from S"
   ]
  },
  {
   "cell_type": "code",
   "execution_count": 19,
   "id": "d6b719a1",
   "metadata": {},
   "outputs": [
    {
     "name": "stdout",
     "output_type": "stream",
     "text": [
      " * sqlite:///MyEmpData.db\n",
      "Done.\n"
     ]
    },
    {
     "data": {
      "text/html": [
       "<table>\n",
       "    <tr>\n",
       "        <th>empid</th>\n",
       "        <th>fname</th>\n",
       "        <th>lname</th>\n",
       "        <th>sal</th>\n",
       "        <th>did</th>\n",
       "    </tr>\n",
       "    <tr>\n",
       "        <td>102</td>\n",
       "        <td>Sarthak</td>\n",
       "        <td>Sharma</td>\n",
       "        <td>25000</td>\n",
       "        <td>20</td>\n",
       "    </tr>\n",
       "    <tr>\n",
       "        <td>106</td>\n",
       "        <td>Suresh</td>\n",
       "        <td>More</td>\n",
       "        <td>36000</td>\n",
       "        <td>10</td>\n",
       "    </tr>\n",
       "    <tr>\n",
       "        <td>107</td>\n",
       "        <td>Sayali</td>\n",
       "        <td>Kale</td>\n",
       "        <td>40000</td>\n",
       "        <td>30</td>\n",
       "    </tr>\n",
       "</table>"
      ],
      "text/plain": [
       "[(102, 'Sarthak', 'Sharma', 25000, 20),\n",
       " (106, 'Suresh', 'More', 36000, 10),\n",
       " (107, 'Sayali', 'Kale', 40000, 30)]"
      ]
     },
     "execution_count": 19,
     "metadata": {},
     "output_type": "execute_result"
    }
   ],
   "source": [
    "%%sql\n",
    "SELECT * FROM Employees\n",
    "WHERE fname LIKE \"S%\";"
   ]
  },
  {
   "cell_type": "markdown",
   "id": "e73e6567",
   "metadata": {},
   "source": [
    "# Find employees who's last name ends with e"
   ]
  },
  {
   "cell_type": "code",
   "execution_count": 24,
   "id": "2f49daf3",
   "metadata": {},
   "outputs": [
    {
     "name": "stdout",
     "output_type": "stream",
     "text": [
      " * sqlite:///MyEmpData.db\n",
      "Done.\n"
     ]
    },
    {
     "data": {
      "text/html": [
       "<table>\n",
       "    <tr>\n",
       "        <th>empid</th>\n",
       "        <th>fname</th>\n",
       "        <th>lname</th>\n",
       "        <th>sal</th>\n",
       "        <th>did</th>\n",
       "    </tr>\n",
       "    <tr>\n",
       "        <td>106</td>\n",
       "        <td>Suresh</td>\n",
       "        <td>More</td>\n",
       "        <td>36000</td>\n",
       "        <td>10</td>\n",
       "    </tr>\n",
       "    <tr>\n",
       "        <td>107</td>\n",
       "        <td>Sayali</td>\n",
       "        <td>Kale</td>\n",
       "        <td>40000</td>\n",
       "        <td>30</td>\n",
       "    </tr>\n",
       "    <tr>\n",
       "        <td>108</td>\n",
       "        <td>Narayan</td>\n",
       "        <td>More</td>\n",
       "        <td>45000</td>\n",
       "        <td>30</td>\n",
       "    </tr>\n",
       "</table>"
      ],
      "text/plain": [
       "[(106, 'Suresh', 'More', 36000, 10),\n",
       " (107, 'Sayali', 'Kale', 40000, 30),\n",
       " (108, 'Narayan', 'More', 45000, 30)]"
      ]
     },
     "execution_count": 24,
     "metadata": {},
     "output_type": "execute_result"
    }
   ],
   "source": [
    "%%sql\n",
    "SELECT * FROM Employees\n",
    "WHERE lname LIKE \"%e\""
   ]
  },
  {
   "cell_type": "markdown",
   "id": "1d4a26b8",
   "metadata": {},
   "source": [
    "# Aggreagation Function - AVG, SUM and COUNT\n",
    " "
   ]
  },
  {
   "cell_type": "markdown",
   "id": "5730fd4b",
   "metadata": {},
   "source": [
    "# Find out total salary"
   ]
  },
  {
   "cell_type": "code",
   "execution_count": 25,
   "id": "af73803c",
   "metadata": {},
   "outputs": [
    {
     "name": "stdout",
     "output_type": "stream",
     "text": [
      " * sqlite:///MyEmpData.db\n",
      "Done.\n"
     ]
    },
    {
     "data": {
      "text/html": [
       "<table>\n",
       "    <tr>\n",
       "        <th>SUM(sal)</th>\n",
       "    </tr>\n",
       "    <tr>\n",
       "        <td>338000</td>\n",
       "    </tr>\n",
       "</table>"
      ],
      "text/plain": [
       "[(338000,)]"
      ]
     },
     "execution_count": 25,
     "metadata": {},
     "output_type": "execute_result"
    }
   ],
   "source": [
    "%%sql\n",
    "SELECT SUM(sal) FROM Employees;"
   ]
  },
  {
   "cell_type": "code",
   "execution_count": 26,
   "id": "332d18f6",
   "metadata": {},
   "outputs": [
    {
     "data": {
      "text/plain": [
       "338000"
      ]
     },
     "execution_count": 26,
     "metadata": {},
     "output_type": "execute_result"
    }
   ],
   "source": [
    "A[\"sal\"].sum()    #pandas"
   ]
  },
  {
   "cell_type": "markdown",
   "id": "5606e4a3",
   "metadata": {},
   "source": [
    "# Find out average Salary"
   ]
  },
  {
   "cell_type": "code",
   "execution_count": 27,
   "id": "f52a8627",
   "metadata": {},
   "outputs": [
    {
     "name": "stdout",
     "output_type": "stream",
     "text": [
      " * sqlite:///MyEmpData.db\n",
      "Done.\n"
     ]
    },
    {
     "data": {
      "text/html": [
       "<table>\n",
       "    <tr>\n",
       "        <th>AVG(sal)</th>\n",
       "    </tr>\n",
       "    <tr>\n",
       "        <td>33800.0</td>\n",
       "    </tr>\n",
       "</table>"
      ],
      "text/plain": [
       "[(33800.0,)]"
      ]
     },
     "execution_count": 27,
     "metadata": {},
     "output_type": "execute_result"
    }
   ],
   "source": [
    "%%sql\n",
    "SELECT AVG(sal) FROM Employees;"
   ]
  },
  {
   "cell_type": "code",
   "execution_count": 29,
   "id": "044151cd",
   "metadata": {},
   "outputs": [
    {
     "data": {
      "text/plain": [
       "33800.0"
      ]
     },
     "execution_count": 29,
     "metadata": {},
     "output_type": "execute_result"
    }
   ],
   "source": [
    "A[\"sal\"].mean()    #pandas"
   ]
  },
  {
   "cell_type": "markdown",
   "id": "0212e33f",
   "metadata": {},
   "source": [
    "# Find out empoyee count where sal < 30000"
   ]
  },
  {
   "cell_type": "code",
   "execution_count": 30,
   "id": "af4218d9",
   "metadata": {},
   "outputs": [
    {
     "name": "stdout",
     "output_type": "stream",
     "text": [
      " * sqlite:///MyEmpData.db\n",
      "Done.\n"
     ]
    },
    {
     "data": {
      "text/html": [
       "<table>\n",
       "    <tr>\n",
       "        <th>fname</th>\n",
       "        <th>empid</th>\n",
       "    </tr>\n",
       "    <tr>\n",
       "        <td>Utkarsh</td>\n",
       "        <td>101</td>\n",
       "    </tr>\n",
       "    <tr>\n",
       "        <td>Sarthak</td>\n",
       "        <td>102</td>\n",
       "    </tr>\n",
       "    <tr>\n",
       "        <td>Ramesh</td>\n",
       "        <td>110</td>\n",
       "    </tr>\n",
       "</table>"
      ],
      "text/plain": [
       "[('Utkarsh', 101), ('Sarthak', 102), ('Ramesh', 110)]"
      ]
     },
     "execution_count": 30,
     "metadata": {},
     "output_type": "execute_result"
    }
   ],
   "source": [
    "%%sql\n",
    "SELECT fname,empid FROM Employees\n",
    "WHERE sal<=30000; "
   ]
  },
  {
   "cell_type": "code",
   "execution_count": 31,
   "id": "9361d573",
   "metadata": {},
   "outputs": [
    {
     "name": "stdout",
     "output_type": "stream",
     "text": [
      " * sqlite:///MyEmpData.db\n",
      "Done.\n"
     ]
    },
    {
     "data": {
      "text/html": [
       "<table>\n",
       "    <tr>\n",
       "        <th>empid</th>\n",
       "        <th>fname</th>\n",
       "        <th>lname</th>\n",
       "        <th>sal</th>\n",
       "        <th>did</th>\n",
       "    </tr>\n",
       "    <tr>\n",
       "        <td>101</td>\n",
       "        <td>Utkarsh</td>\n",
       "        <td>Gaikwad</td>\n",
       "        <td>20000</td>\n",
       "        <td>10</td>\n",
       "    </tr>\n",
       "    <tr>\n",
       "        <td>102</td>\n",
       "        <td>Sarthak</td>\n",
       "        <td>Sharma</td>\n",
       "        <td>25000</td>\n",
       "        <td>20</td>\n",
       "    </tr>\n",
       "    <tr>\n",
       "        <td>103</td>\n",
       "        <td>Raman</td>\n",
       "        <td>Verma</td>\n",
       "        <td>35000</td>\n",
       "        <td>30</td>\n",
       "    </tr>\n",
       "    <tr>\n",
       "        <td>104</td>\n",
       "        <td>Rakesh</td>\n",
       "        <td>Jain</td>\n",
       "        <td>40000</td>\n",
       "        <td>20</td>\n",
       "    </tr>\n",
       "    <tr>\n",
       "        <td>105</td>\n",
       "        <td>Aditi</td>\n",
       "        <td>Naik</td>\n",
       "        <td>37000</td>\n",
       "        <td>20</td>\n",
       "    </tr>\n",
       "    <tr>\n",
       "        <td>106</td>\n",
       "        <td>Suresh</td>\n",
       "        <td>More</td>\n",
       "        <td>36000</td>\n",
       "        <td>10</td>\n",
       "    </tr>\n",
       "    <tr>\n",
       "        <td>107</td>\n",
       "        <td>Sayali</td>\n",
       "        <td>Kale</td>\n",
       "        <td>40000</td>\n",
       "        <td>30</td>\n",
       "    </tr>\n",
       "    <tr>\n",
       "        <td>108</td>\n",
       "        <td>Narayan</td>\n",
       "        <td>More</td>\n",
       "        <td>45000</td>\n",
       "        <td>30</td>\n",
       "    </tr>\n",
       "    <tr>\n",
       "        <td>109</td>\n",
       "        <td>Atif</td>\n",
       "        <td>Khan</td>\n",
       "        <td>34000</td>\n",
       "        <td>10</td>\n",
       "    </tr>\n",
       "    <tr>\n",
       "        <td>110</td>\n",
       "        <td>Ramesh</td>\n",
       "        <td>Gaud</td>\n",
       "        <td>26000</td>\n",
       "        <td>10</td>\n",
       "    </tr>\n",
       "</table>"
      ],
      "text/plain": [
       "[(101, 'Utkarsh', 'Gaikwad', 20000, 10),\n",
       " (102, 'Sarthak', 'Sharma', 25000, 20),\n",
       " (103, 'Raman', 'Verma', 35000, 30),\n",
       " (104, 'Rakesh', 'Jain', 40000, 20),\n",
       " (105, 'Aditi', 'Naik', 37000, 20),\n",
       " (106, 'Suresh', 'More', 36000, 10),\n",
       " (107, 'Sayali', 'Kale', 40000, 30),\n",
       " (108, 'Narayan', 'More', 45000, 30),\n",
       " (109, 'Atif', 'Khan', 34000, 10),\n",
       " (110, 'Ramesh', 'Gaud', 26000, 10)]"
      ]
     },
     "execution_count": 31,
     "metadata": {},
     "output_type": "execute_result"
    }
   ],
   "source": [
    "%%sql\n",
    "SELECT * FROM Employees"
   ]
  },
  {
   "cell_type": "markdown",
   "id": "697cd637",
   "metadata": {},
   "source": [
    "# Unique values counting"
   ]
  },
  {
   "cell_type": "code",
   "execution_count": 32,
   "id": "7af1edc1",
   "metadata": {},
   "outputs": [
    {
     "name": "stdout",
     "output_type": "stream",
     "text": [
      " * sqlite:///MyEmpData.db\n",
      "Done.\n"
     ]
    },
    {
     "data": {
      "text/html": [
       "<table>\n",
       "    <tr>\n",
       "        <th>did</th>\n",
       "    </tr>\n",
       "    <tr>\n",
       "        <td>10</td>\n",
       "    </tr>\n",
       "    <tr>\n",
       "        <td>20</td>\n",
       "    </tr>\n",
       "    <tr>\n",
       "        <td>30</td>\n",
       "    </tr>\n",
       "</table>"
      ],
      "text/plain": [
       "[(10,), (20,), (30,)]"
      ]
     },
     "execution_count": 32,
     "metadata": {},
     "output_type": "execute_result"
    }
   ],
   "source": [
    "%%sql\n",
    "SELECT DISTINCT did FROM Employees;"
   ]
  },
  {
   "cell_type": "code",
   "execution_count": 35,
   "id": "39c3d580",
   "metadata": {},
   "outputs": [
    {
     "name": "stdout",
     "output_type": "stream",
     "text": [
      " * sqlite:///MyEmpData.db\n",
      "Done.\n"
     ]
    },
    {
     "data": {
      "text/html": [
       "<table>\n",
       "    <tr>\n",
       "        <th>COUNT(DISTINCT did)</th>\n",
       "    </tr>\n",
       "    <tr>\n",
       "        <td>3</td>\n",
       "    </tr>\n",
       "</table>"
      ],
      "text/plain": [
       "[(3,)]"
      ]
     },
     "execution_count": 35,
     "metadata": {},
     "output_type": "execute_result"
    }
   ],
   "source": [
    "%%sql\n",
    "SELECT COUNT(DISTINCT did) FROM Employees;"
   ]
  },
  {
   "cell_type": "markdown",
   "id": "d69b72a9",
   "metadata": {},
   "source": [
    "# Find employees whose salary is less than average salary"
   ]
  },
  {
   "cell_type": "code",
   "execution_count": 43,
   "id": "0468843a",
   "metadata": {},
   "outputs": [
    {
     "name": "stdout",
     "output_type": "stream",
     "text": [
      " * sqlite:///MyEmpData.db\n",
      "Done.\n"
     ]
    },
    {
     "data": {
      "text/html": [
       "<table>\n",
       "    <tr>\n",
       "        <th>AVG(Sal)</th>\n",
       "    </tr>\n",
       "    <tr>\n",
       "        <td>33800.0</td>\n",
       "    </tr>\n",
       "</table>"
      ],
      "text/plain": [
       "[(33800.0,)]"
      ]
     },
     "execution_count": 43,
     "metadata": {},
     "output_type": "execute_result"
    }
   ],
   "source": [
    "%%sql\n",
    "SELECT AVG(Sal) FROM Employees;"
   ]
  },
  {
   "cell_type": "code",
   "execution_count": 45,
   "id": "b6ed611d",
   "metadata": {},
   "outputs": [
    {
     "name": "stdout",
     "output_type": "stream",
     "text": [
      " * sqlite:///MyEmpData.db\n",
      "Done.\n"
     ]
    },
    {
     "data": {
      "text/html": [
       "<table>\n",
       "    <tr>\n",
       "        <th>empid</th>\n",
       "        <th>fname</th>\n",
       "        <th>lname</th>\n",
       "        <th>sal</th>\n",
       "        <th>did</th>\n",
       "    </tr>\n",
       "    <tr>\n",
       "        <td>101</td>\n",
       "        <td>Utkarsh</td>\n",
       "        <td>Gaikwad</td>\n",
       "        <td>20000</td>\n",
       "        <td>10</td>\n",
       "    </tr>\n",
       "    <tr>\n",
       "        <td>102</td>\n",
       "        <td>Sarthak</td>\n",
       "        <td>Sharma</td>\n",
       "        <td>25000</td>\n",
       "        <td>20</td>\n",
       "    </tr>\n",
       "    <tr>\n",
       "        <td>110</td>\n",
       "        <td>Ramesh</td>\n",
       "        <td>Gaud</td>\n",
       "        <td>26000</td>\n",
       "        <td>10</td>\n",
       "    </tr>\n",
       "</table>"
      ],
      "text/plain": [
       "[(101, 'Utkarsh', 'Gaikwad', 20000, 10),\n",
       " (102, 'Sarthak', 'Sharma', 25000, 20),\n",
       " (110, 'Ramesh', 'Gaud', 26000, 10)]"
      ]
     },
     "execution_count": 45,
     "metadata": {},
     "output_type": "execute_result"
    }
   ],
   "source": [
    "%%sql\n",
    "SELECT * From Employees\n",
    "WHERE Sal<(SELECT AVG(Sal) FROM Employees);"
   ]
  },
  {
   "cell_type": "markdown",
   "id": "22fafbdf",
   "metadata": {},
   "source": [
    "# Order by Clause"
   ]
  },
  {
   "cell_type": "markdown",
   "id": "6f0c2e18",
   "metadata": {},
   "source": [
    "# Sort the employees on basic of salary in descending order"
   ]
  },
  {
   "cell_type": "code",
   "execution_count": 47,
   "id": "0f6331ab",
   "metadata": {},
   "outputs": [
    {
     "name": "stdout",
     "output_type": "stream",
     "text": [
      " * sqlite:///MyEmpData.db\n",
      "Done.\n"
     ]
    },
    {
     "data": {
      "text/html": [
       "<table>\n",
       "    <tr>\n",
       "        <th>empid</th>\n",
       "        <th>fname</th>\n",
       "        <th>lname</th>\n",
       "        <th>sal</th>\n",
       "        <th>did</th>\n",
       "    </tr>\n",
       "    <tr>\n",
       "        <td>108</td>\n",
       "        <td>Narayan</td>\n",
       "        <td>More</td>\n",
       "        <td>45000</td>\n",
       "        <td>30</td>\n",
       "    </tr>\n",
       "    <tr>\n",
       "        <td>104</td>\n",
       "        <td>Rakesh</td>\n",
       "        <td>Jain</td>\n",
       "        <td>40000</td>\n",
       "        <td>20</td>\n",
       "    </tr>\n",
       "    <tr>\n",
       "        <td>107</td>\n",
       "        <td>Sayali</td>\n",
       "        <td>Kale</td>\n",
       "        <td>40000</td>\n",
       "        <td>30</td>\n",
       "    </tr>\n",
       "    <tr>\n",
       "        <td>105</td>\n",
       "        <td>Aditi</td>\n",
       "        <td>Naik</td>\n",
       "        <td>37000</td>\n",
       "        <td>20</td>\n",
       "    </tr>\n",
       "    <tr>\n",
       "        <td>106</td>\n",
       "        <td>Suresh</td>\n",
       "        <td>More</td>\n",
       "        <td>36000</td>\n",
       "        <td>10</td>\n",
       "    </tr>\n",
       "    <tr>\n",
       "        <td>103</td>\n",
       "        <td>Raman</td>\n",
       "        <td>Verma</td>\n",
       "        <td>35000</td>\n",
       "        <td>30</td>\n",
       "    </tr>\n",
       "    <tr>\n",
       "        <td>109</td>\n",
       "        <td>Atif</td>\n",
       "        <td>Khan</td>\n",
       "        <td>34000</td>\n",
       "        <td>10</td>\n",
       "    </tr>\n",
       "    <tr>\n",
       "        <td>110</td>\n",
       "        <td>Ramesh</td>\n",
       "        <td>Gaud</td>\n",
       "        <td>26000</td>\n",
       "        <td>10</td>\n",
       "    </tr>\n",
       "    <tr>\n",
       "        <td>102</td>\n",
       "        <td>Sarthak</td>\n",
       "        <td>Sharma</td>\n",
       "        <td>25000</td>\n",
       "        <td>20</td>\n",
       "    </tr>\n",
       "    <tr>\n",
       "        <td>101</td>\n",
       "        <td>Utkarsh</td>\n",
       "        <td>Gaikwad</td>\n",
       "        <td>20000</td>\n",
       "        <td>10</td>\n",
       "    </tr>\n",
       "</table>"
      ],
      "text/plain": [
       "[(108, 'Narayan', 'More', 45000, 30),\n",
       " (104, 'Rakesh', 'Jain', 40000, 20),\n",
       " (107, 'Sayali', 'Kale', 40000, 30),\n",
       " (105, 'Aditi', 'Naik', 37000, 20),\n",
       " (106, 'Suresh', 'More', 36000, 10),\n",
       " (103, 'Raman', 'Verma', 35000, 30),\n",
       " (109, 'Atif', 'Khan', 34000, 10),\n",
       " (110, 'Ramesh', 'Gaud', 26000, 10),\n",
       " (102, 'Sarthak', 'Sharma', 25000, 20),\n",
       " (101, 'Utkarsh', 'Gaikwad', 20000, 10)]"
      ]
     },
     "execution_count": 47,
     "metadata": {},
     "output_type": "execute_result"
    }
   ],
   "source": [
    "%%sql\n",
    "SELECT * FROM Employees\n",
    "ORDER BY sal DESC;"
   ]
  },
  {
   "cell_type": "markdown",
   "id": "d8c49d62",
   "metadata": {},
   "source": [
    "# Show me names and salary of top 3 highest saliried employees"
   ]
  },
  {
   "cell_type": "code",
   "execution_count": 46,
   "id": "e9ebeb39",
   "metadata": {},
   "outputs": [
    {
     "name": "stdout",
     "output_type": "stream",
     "text": [
      " * sqlite:///MyEmpData.db\n",
      "Done.\n"
     ]
    },
    {
     "data": {
      "text/html": [
       "<table>\n",
       "    <tr>\n",
       "        <th>fname</th>\n",
       "        <th>lname</th>\n",
       "        <th>sal</th>\n",
       "    </tr>\n",
       "    <tr>\n",
       "        <td>Narayan</td>\n",
       "        <td>More</td>\n",
       "        <td>45000</td>\n",
       "    </tr>\n",
       "    <tr>\n",
       "        <td>Rakesh</td>\n",
       "        <td>Jain</td>\n",
       "        <td>40000</td>\n",
       "    </tr>\n",
       "    <tr>\n",
       "        <td>Sayali</td>\n",
       "        <td>Kale</td>\n",
       "        <td>40000</td>\n",
       "    </tr>\n",
       "</table>"
      ],
      "text/plain": [
       "[('Narayan', 'More', 45000),\n",
       " ('Rakesh', 'Jain', 40000),\n",
       " ('Sayali', 'Kale', 40000)]"
      ]
     },
     "execution_count": 46,
     "metadata": {},
     "output_type": "execute_result"
    }
   ],
   "source": [
    "%%sql\n",
    "SELECT fname,lname,sal FROM Employees\n",
    "ORDER BY sal DESC\n",
    "LIMIT 3;"
   ]
  },
  {
   "cell_type": "markdown",
   "id": "60043c27",
   "metadata": {},
   "source": [
    "# Group By Clause"
   ]
  },
  {
   "cell_type": "markdown",
   "id": "18470dc9",
   "metadata": {},
   "source": [
    "# Find out average salary based on department id"
   ]
  },
  {
   "cell_type": "code",
   "execution_count": 48,
   "id": "ef4c9196",
   "metadata": {},
   "outputs": [
    {
     "name": "stdout",
     "output_type": "stream",
     "text": [
      " * sqlite:///MyEmpData.db\n",
      "Done.\n"
     ]
    },
    {
     "data": {
      "text/html": [
       "<table>\n",
       "    <tr>\n",
       "        <th>did</th>\n",
       "        <th>AVG(sal)</th>\n",
       "    </tr>\n",
       "    <tr>\n",
       "        <td>10</td>\n",
       "        <td>29000.0</td>\n",
       "    </tr>\n",
       "    <tr>\n",
       "        <td>20</td>\n",
       "        <td>34000.0</td>\n",
       "    </tr>\n",
       "    <tr>\n",
       "        <td>30</td>\n",
       "        <td>40000.0</td>\n",
       "    </tr>\n",
       "</table>"
      ],
      "text/plain": [
       "[(10, 29000.0), (20, 34000.0), (30, 40000.0)]"
      ]
     },
     "execution_count": 48,
     "metadata": {},
     "output_type": "execute_result"
    }
   ],
   "source": [
    "%%sql\n",
    "SELECT did,AVG(sal) FROM Employees\n",
    "GROUP BY did"
   ]
  },
  {
   "cell_type": "code",
   "execution_count": 49,
   "id": "e6ab1c9f",
   "metadata": {},
   "outputs": [
    {
     "name": "stdout",
     "output_type": "stream",
     "text": [
      " * sqlite:///MyEmpData.db\n",
      "Done.\n"
     ]
    },
    {
     "data": {
      "text/html": [
       "<table>\n",
       "    <tr>\n",
       "        <th>did</th>\n",
       "        <th>AVG(sal)</th>\n",
       "    </tr>\n",
       "    <tr>\n",
       "        <td>30</td>\n",
       "        <td>40000.0</td>\n",
       "    </tr>\n",
       "    <tr>\n",
       "        <td>20</td>\n",
       "        <td>34000.0</td>\n",
       "    </tr>\n",
       "    <tr>\n",
       "        <td>10</td>\n",
       "        <td>29000.0</td>\n",
       "    </tr>\n",
       "</table>"
      ],
      "text/plain": [
       "[(30, 40000.0), (20, 34000.0), (10, 29000.0)]"
      ]
     },
     "execution_count": 49,
     "metadata": {},
     "output_type": "execute_result"
    }
   ],
   "source": [
    "%%sql\n",
    "SELECT did, AVG(sal) FROM Employees\n",
    "GROUP BY did\n",
    "ORDER BY AVG (sal) DESC;"
   ]
  },
  {
   "cell_type": "code",
   "execution_count": 53,
   "id": "0a345f73",
   "metadata": {},
   "outputs": [
    {
     "data": {
      "text/plain": [
       "did\n",
       "10    29000.0\n",
       "20    34000.0\n",
       "30    40000.0\n",
       "Name: sal, dtype: float64"
      ]
     },
     "execution_count": 53,
     "metadata": {},
     "output_type": "execute_result"
    }
   ],
   "source": [
    "A.groupby(by=\"did\")[\"sal\"].mean()   #pandas"
   ]
  },
  {
   "cell_type": "code",
   "execution_count": null,
   "id": "2ccbae3b",
   "metadata": {},
   "outputs": [],
   "source": []
  }
 ],
 "metadata": {
  "kernelspec": {
   "display_name": "Python 3 (ipykernel)",
   "language": "python",
   "name": "python3"
  },
  "language_info": {
   "codemirror_mode": {
    "name": "ipython",
    "version": 3
   },
   "file_extension": ".py",
   "mimetype": "text/x-python",
   "name": "python",
   "nbconvert_exporter": "python",
   "pygments_lexer": "ipython3",
   "version": "3.9.12"
  }
 },
 "nbformat": 4,
 "nbformat_minor": 5
}
