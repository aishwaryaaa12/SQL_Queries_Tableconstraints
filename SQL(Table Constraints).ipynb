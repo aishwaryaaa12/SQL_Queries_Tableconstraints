{
 "cells": [
  {
   "cell_type": "markdown",
   "id": "e521b035",
   "metadata": {},
   "source": [
    "# Basic SQL Setup\n"
   ]
  },
  {
   "cell_type": "code",
   "execution_count": 1,
   "id": "ad9bd16e",
   "metadata": {},
   "outputs": [],
   "source": [
    "%load_ext sql"
   ]
  },
  {
   "cell_type": "code",
   "execution_count": 2,
   "id": "45f5e6b9",
   "metadata": {},
   "outputs": [],
   "source": [
    "import csv,sqlite3\n",
    "con=sqlite3.connect(\"my_data2.db\")\n",
    "cur=con.cursor()"
   ]
  },
  {
   "cell_type": "code",
   "execution_count": 3,
   "id": "1d66f3ed",
   "metadata": {},
   "outputs": [],
   "source": [
    "%sql sqlite:///my_data2.db"
   ]
  },
  {
   "cell_type": "markdown",
   "id": "ea5bff7d",
   "metadata": {},
   "source": [
    "# SQL Queries can now be executed in python"
   ]
  },
  {
   "cell_type": "markdown",
   "id": "6dddbff2",
   "metadata": {},
   "source": [
    "#### Deprtment Table creation with Constraints"
   ]
  },
  {
   "cell_type": "code",
   "execution_count": 5,
   "id": "70212d40",
   "metadata": {},
   "outputs": [
    {
     "name": "stdout",
     "output_type": "stream",
     "text": [
      " * sqlite:///my_data2.db\n",
      "Done.\n"
     ]
    },
    {
     "data": {
      "text/plain": [
       "[]"
      ]
     },
     "execution_count": 5,
     "metadata": {},
     "output_type": "execute_result"
    }
   ],
   "source": [
    "%%sql\n",
    "CREATE TABLE IF NOT EXISTS Department \n",
    "    (DepartmentId INT PRIMARY KEY NOT NULL,\n",
    "     DepartmentName VARCHAR(30) NOT NULL);"
   ]
  },
  {
   "cell_type": "code",
   "execution_count": 6,
   "id": "2ce018d2",
   "metadata": {},
   "outputs": [
    {
     "name": "stdout",
     "output_type": "stream",
     "text": [
      " * sqlite:///my_data2.db\n",
      "Done.\n"
     ]
    },
    {
     "data": {
      "text/html": [
       "<table>\n",
       "    <tr>\n",
       "        <th>DepartmentId</th>\n",
       "        <th>DepartmentName</th>\n",
       "    </tr>\n",
       "</table>"
      ],
      "text/plain": [
       "[]"
      ]
     },
     "execution_count": 6,
     "metadata": {},
     "output_type": "execute_result"
    }
   ],
   "source": [
    "%%sql\n",
    "SELECT * FROM Department"
   ]
  },
  {
   "cell_type": "code",
   "execution_count": 7,
   "id": "381435e4",
   "metadata": {},
   "outputs": [
    {
     "name": "stdout",
     "output_type": "stream",
     "text": [
      " * sqlite:///my_data2.db\n",
      "4 rows affected.\n"
     ]
    },
    {
     "data": {
      "text/plain": [
       "[]"
      ]
     },
     "execution_count": 7,
     "metadata": {},
     "output_type": "execute_result"
    }
   ],
   "source": [
    "%%sql\n",
    "INSERT INTO Department\n",
    "VALUES (1,'Sales'),\n",
    "       (2,'Purchase'),\n",
    "       (3,'Engineering'),\n",
    "       (4,'HR')"
   ]
  },
  {
   "cell_type": "code",
   "execution_count": 8,
   "id": "90d9c80a",
   "metadata": {},
   "outputs": [
    {
     "name": "stdout",
     "output_type": "stream",
     "text": [
      " * sqlite:///my_data2.db\n",
      "Done.\n"
     ]
    },
    {
     "data": {
      "text/html": [
       "<table>\n",
       "    <tr>\n",
       "        <th>DepartmentId</th>\n",
       "        <th>DepartmentName</th>\n",
       "    </tr>\n",
       "    <tr>\n",
       "        <td>1</td>\n",
       "        <td>Sales</td>\n",
       "    </tr>\n",
       "    <tr>\n",
       "        <td>2</td>\n",
       "        <td>Purchase</td>\n",
       "    </tr>\n",
       "    <tr>\n",
       "        <td>3</td>\n",
       "        <td>Engineering</td>\n",
       "    </tr>\n",
       "    <tr>\n",
       "        <td>4</td>\n",
       "        <td>HR</td>\n",
       "    </tr>\n",
       "</table>"
      ],
      "text/plain": [
       "[(1, 'Sales'), (2, 'Purchase'), (3, 'Engineering'), (4, 'HR')]"
      ]
     },
     "execution_count": 8,
     "metadata": {},
     "output_type": "execute_result"
    }
   ],
   "source": [
    "%%sql\n",
    "SELECT * FROM Department"
   ]
  },
  {
   "cell_type": "code",
   "execution_count": 9,
   "id": "a72b73ab",
   "metadata": {},
   "outputs": [
    {
     "name": "stdout",
     "output_type": "stream",
     "text": [
      " * sqlite:///my_data2.db\n",
      "(sqlite3.IntegrityError) UNIQUE constraint failed: Department.DepartmentId\n",
      "[SQL: INSERT INTO Department\n",
      "VALUES(3,'Accounts')]\n",
      "(Background on this error at: http://sqlalche.me/e/gkpj)\n"
     ]
    }
   ],
   "source": [
    "%%sql\n",
    "INSERT INTO Department\n",
    "VALUES(3,'Accounts')"
   ]
  },
  {
   "cell_type": "code",
   "execution_count": 10,
   "id": "2c819c90",
   "metadata": {},
   "outputs": [
    {
     "name": "stdout",
     "output_type": "stream",
     "text": [
      " * sqlite:///my_data2.db\n",
      "Done.\n"
     ]
    },
    {
     "data": {
      "text/html": [
       "<table>\n",
       "    <tr>\n",
       "        <th>DepartmentId</th>\n",
       "        <th>DepartmentName</th>\n",
       "    </tr>\n",
       "    <tr>\n",
       "        <td>1</td>\n",
       "        <td>Sales</td>\n",
       "    </tr>\n",
       "    <tr>\n",
       "        <td>2</td>\n",
       "        <td>Purchase</td>\n",
       "    </tr>\n",
       "    <tr>\n",
       "        <td>3</td>\n",
       "        <td>Engineering</td>\n",
       "    </tr>\n",
       "    <tr>\n",
       "        <td>4</td>\n",
       "        <td>HR</td>\n",
       "    </tr>\n",
       "</table>"
      ],
      "text/plain": [
       "[(1, 'Sales'), (2, 'Purchase'), (3, 'Engineering'), (4, 'HR')]"
      ]
     },
     "execution_count": 10,
     "metadata": {},
     "output_type": "execute_result"
    }
   ],
   "source": [
    "%%sql\n",
    "SELECT * FROM Department"
   ]
  },
  {
   "cell_type": "code",
   "execution_count": 11,
   "id": "4857c6e8",
   "metadata": {},
   "outputs": [
    {
     "name": "stdout",
     "output_type": "stream",
     "text": [
      " * sqlite:///my_data2.db\n",
      "(sqlite3.IntegrityError) NOT NULL constraint failed: Department.DepartmentName\n",
      "[SQL: INSERT INTO Department\n",
      "VALUES(5,NULL)]\n",
      "(Background on this error at: http://sqlalche.me/e/gkpj)\n"
     ]
    }
   ],
   "source": [
    "%%sql\n",
    "INSERT INTO Department\n",
    "VALUES(5,NULL)"
   ]
  },
  {
   "cell_type": "code",
   "execution_count": 13,
   "id": "163461b7",
   "metadata": {},
   "outputs": [
    {
     "name": "stdout",
     "output_type": "stream",
     "text": [
      " * sqlite:///my_data2.db\n",
      "Done.\n"
     ]
    },
    {
     "data": {
      "text/html": [
       "<table>\n",
       "    <tr>\n",
       "        <th>DepartmentId</th>\n",
       "        <th>DepartmentName</th>\n",
       "    </tr>\n",
       "    <tr>\n",
       "        <td>1</td>\n",
       "        <td>Sales</td>\n",
       "    </tr>\n",
       "    <tr>\n",
       "        <td>2</td>\n",
       "        <td>Purchase</td>\n",
       "    </tr>\n",
       "    <tr>\n",
       "        <td>3</td>\n",
       "        <td>Engineering</td>\n",
       "    </tr>\n",
       "    <tr>\n",
       "        <td>4</td>\n",
       "        <td>HR</td>\n",
       "    </tr>\n",
       "</table>"
      ],
      "text/plain": [
       "[(1, 'Sales'), (2, 'Purchase'), (3, 'Engineering'), (4, 'HR')]"
      ]
     },
     "execution_count": 13,
     "metadata": {},
     "output_type": "execute_result"
    }
   ],
   "source": [
    "%%sql\n",
    "SELECT * FROM Department"
   ]
  },
  {
   "cell_type": "markdown",
   "id": "c4066cd8",
   "metadata": {},
   "source": [
    "#### Creating Employee Data table"
   ]
  },
  {
   "cell_type": "markdown",
   "id": "38733347",
   "metadata": {},
   "source": [
    "* Employee ID\n",
    "* FirstName\n",
    "* LastName\n",
    "* Email\n",
    "* DepartmentID\n",
    "* Salary\n",
    "* Hiring Date"
   ]
  },
  {
   "cell_type": "code",
   "execution_count": 15,
   "id": "be4e1559",
   "metadata": {},
   "outputs": [
    {
     "name": "stdout",
     "output_type": "stream",
     "text": [
      " * sqlite:///my_data2.db\n",
      "Done.\n"
     ]
    },
    {
     "data": {
      "text/plain": [
       "[]"
      ]
     },
     "execution_count": 15,
     "metadata": {},
     "output_type": "execute_result"
    }
   ],
   "source": [
    "%%sql\n",
    "CREATE TABLE employee\n",
    "    (EmployeeId INT PRIMARY KEY NOT NULL,\n",
    "     FirstName VARCHAR(50) NOT NULL,\n",
    "     LastName VARCHAR(50) NOT NULL,\n",
    "     Email VARCHAR(100) NOT NULL,\n",
    "     DepartmentId int,\n",
    "      Salary DECIMAL(10,2) CHECK(Salary>0),\n",
    "     CONSTRAINT fk_DepartmentId\n",
    "         FOREIGN KEY (DepartmentID)\n",
    "         REFERENCES Department(DepartmentID));\n",
    "    "
   ]
  },
  {
   "cell_type": "code",
   "execution_count": 16,
   "id": "7d2d6f93",
   "metadata": {},
   "outputs": [
    {
     "name": "stdout",
     "output_type": "stream",
     "text": [
      " * sqlite:///my_data2.db\n",
      "Done.\n"
     ]
    },
    {
     "data": {
      "text/html": [
       "<table>\n",
       "    <tr>\n",
       "        <th>EmployeeId</th>\n",
       "        <th>FirstName</th>\n",
       "        <th>LastName</th>\n",
       "        <th>Email</th>\n",
       "        <th>DepartmentId</th>\n",
       "        <th>Salary</th>\n",
       "    </tr>\n",
       "</table>"
      ],
      "text/plain": [
       "[]"
      ]
     },
     "execution_count": 16,
     "metadata": {},
     "output_type": "execute_result"
    }
   ],
   "source": [
    "%%sql\n",
    "SELECT * FROM employee"
   ]
  },
  {
   "cell_type": "markdown",
   "id": "be66b9f5",
   "metadata": {},
   "source": [
    "~~~\n",
    "%%sql  \n",
    "INSERT INTO Employee\n",
    "VALUES (1,'Utkarsh','Gaikwad','utkarsh.etlhive@gmail.com',3,25000),\n",
    "       (2,'Sarthak','Sharma','test@test.com',1,20000),\n",
    "       (3,'Sayali','More','example@gmail.com',2,30000),\n",
    "       (4,'Raman','Verma','raman@gmail.com',4,40000);\n",
    "~~~"
   ]
  },
  {
   "cell_type": "code",
   "execution_count": 17,
   "id": "5ecc52d9",
   "metadata": {},
   "outputs": [
    {
     "name": "stdout",
     "output_type": "stream",
     "text": [
      " * sqlite:///my_data2.db\n",
      "4 rows affected.\n"
     ]
    },
    {
     "data": {
      "text/plain": [
       "[]"
      ]
     },
     "execution_count": 17,
     "metadata": {},
     "output_type": "execute_result"
    }
   ],
   "source": [
    "%%sql\n",
    "INSERT INTO EMPLOYEE\n",
    "VALUES (1,\"Aishwarya\",\"Mandhare\",\"Aish@gamil.com\",4,90000),\n",
    "       (2,'Sarthak','Sharma','test@test.com',1,20000),\n",
    "       (3,'Sayali','More','example@gmail.com',2,30000),\n",
    "        (4,'Raman','Verma','raman@gmail.com',4,40000);"
   ]
  },
  {
   "cell_type": "code",
   "execution_count": 18,
   "id": "0b0271bf",
   "metadata": {},
   "outputs": [
    {
     "name": "stdout",
     "output_type": "stream",
     "text": [
      " * sqlite:///my_data2.db\n",
      "Done.\n"
     ]
    },
    {
     "data": {
      "text/html": [
       "<table>\n",
       "    <tr>\n",
       "        <th>EmployeeId</th>\n",
       "        <th>FirstName</th>\n",
       "        <th>LastName</th>\n",
       "        <th>Email</th>\n",
       "        <th>DepartmentId</th>\n",
       "        <th>Salary</th>\n",
       "    </tr>\n",
       "    <tr>\n",
       "        <td>1</td>\n",
       "        <td>Aishwarya</td>\n",
       "        <td>Mandhare</td>\n",
       "        <td>Aish@gamil.com</td>\n",
       "        <td>4</td>\n",
       "        <td>90000</td>\n",
       "    </tr>\n",
       "    <tr>\n",
       "        <td>2</td>\n",
       "        <td>Sarthak</td>\n",
       "        <td>Sharma</td>\n",
       "        <td>test@test.com</td>\n",
       "        <td>1</td>\n",
       "        <td>20000</td>\n",
       "    </tr>\n",
       "    <tr>\n",
       "        <td>3</td>\n",
       "        <td>Sayali</td>\n",
       "        <td>More</td>\n",
       "        <td>example@gmail.com</td>\n",
       "        <td>2</td>\n",
       "        <td>30000</td>\n",
       "    </tr>\n",
       "    <tr>\n",
       "        <td>4</td>\n",
       "        <td>Raman</td>\n",
       "        <td>Verma</td>\n",
       "        <td>raman@gmail.com</td>\n",
       "        <td>4</td>\n",
       "        <td>40000</td>\n",
       "    </tr>\n",
       "</table>"
      ],
      "text/plain": [
       "[(1, 'Aishwarya', 'Mandhare', 'Aish@gamil.com', 4, 90000),\n",
       " (2, 'Sarthak', 'Sharma', 'test@test.com', 1, 20000),\n",
       " (3, 'Sayali', 'More', 'example@gmail.com', 2, 30000),\n",
       " (4, 'Raman', 'Verma', 'raman@gmail.com', 4, 40000)]"
      ]
     },
     "execution_count": 18,
     "metadata": {},
     "output_type": "execute_result"
    }
   ],
   "source": [
    "%%sql\n",
    "SELECT * FROM EMPLOYEE"
   ]
  },
  {
   "cell_type": "markdown",
   "id": "5142c593",
   "metadata": {},
   "source": [
    "## Trying to insert Repeated EmployeeID"
   ]
  },
  {
   "cell_type": "code",
   "execution_count": 19,
   "id": "390616ff",
   "metadata": {},
   "outputs": [
    {
     "name": "stdout",
     "output_type": "stream",
     "text": [
      " * sqlite:///my_data2.db\n",
      "1 rows affected.\n"
     ]
    },
    {
     "data": {
      "text/plain": [
       "[]"
      ]
     },
     "execution_count": 19,
     "metadata": {},
     "output_type": "execute_result"
    }
   ],
   "source": [
    "%%sql\n",
    "INSERT INTO EMPLOYEE\n",
    "VALUES (8,\"Raj\",\"Malhotra\",\"Raj@gmail.com\",5,89000)"
   ]
  },
  {
   "cell_type": "code",
   "execution_count": 20,
   "id": "e26effec",
   "metadata": {},
   "outputs": [
    {
     "name": "stdout",
     "output_type": "stream",
     "text": [
      " * sqlite:///my_data2.db\n",
      "Done.\n"
     ]
    },
    {
     "data": {
      "text/html": [
       "<table>\n",
       "    <tr>\n",
       "        <th>EmployeeId</th>\n",
       "        <th>FirstName</th>\n",
       "        <th>LastName</th>\n",
       "        <th>Email</th>\n",
       "        <th>DepartmentId</th>\n",
       "        <th>Salary</th>\n",
       "    </tr>\n",
       "    <tr>\n",
       "        <td>1</td>\n",
       "        <td>Aishwarya</td>\n",
       "        <td>Mandhare</td>\n",
       "        <td>Aish@gamil.com</td>\n",
       "        <td>4</td>\n",
       "        <td>90000</td>\n",
       "    </tr>\n",
       "    <tr>\n",
       "        <td>2</td>\n",
       "        <td>Sarthak</td>\n",
       "        <td>Sharma</td>\n",
       "        <td>test@test.com</td>\n",
       "        <td>1</td>\n",
       "        <td>20000</td>\n",
       "    </tr>\n",
       "    <tr>\n",
       "        <td>3</td>\n",
       "        <td>Sayali</td>\n",
       "        <td>More</td>\n",
       "        <td>example@gmail.com</td>\n",
       "        <td>2</td>\n",
       "        <td>30000</td>\n",
       "    </tr>\n",
       "    <tr>\n",
       "        <td>4</td>\n",
       "        <td>Raman</td>\n",
       "        <td>Verma</td>\n",
       "        <td>raman@gmail.com</td>\n",
       "        <td>4</td>\n",
       "        <td>40000</td>\n",
       "    </tr>\n",
       "    <tr>\n",
       "        <td>8</td>\n",
       "        <td>Raj</td>\n",
       "        <td>Malhotra</td>\n",
       "        <td>Raj@gmail.com</td>\n",
       "        <td>5</td>\n",
       "        <td>89000</td>\n",
       "    </tr>\n",
       "</table>"
      ],
      "text/plain": [
       "[(1, 'Aishwarya', 'Mandhare', 'Aish@gamil.com', 4, 90000),\n",
       " (2, 'Sarthak', 'Sharma', 'test@test.com', 1, 20000),\n",
       " (3, 'Sayali', 'More', 'example@gmail.com', 2, 30000),\n",
       " (4, 'Raman', 'Verma', 'raman@gmail.com', 4, 40000),\n",
       " (8, 'Raj', 'Malhotra', 'Raj@gmail.com', 5, 89000)]"
      ]
     },
     "execution_count": 20,
     "metadata": {},
     "output_type": "execute_result"
    }
   ],
   "source": [
    "%%sql\n",
    "SELECT * FROM EMPLOYEE"
   ]
  },
  {
   "cell_type": "code",
   "execution_count": 21,
   "id": "5cfd9bec",
   "metadata": {},
   "outputs": [
    {
     "name": "stdout",
     "output_type": "stream",
     "text": [
      " * sqlite:///my_data2.db\n",
      "(sqlite3.IntegrityError) NOT NULL constraint failed: employee.FirstName\n",
      "[SQL: INSERT INTO Employee\n",
      "VALUES (5,Null,'Doe','johndoe@gmail.com',1,27000)]\n",
      "(Background on this error at: http://sqlalche.me/e/gkpj)\n"
     ]
    }
   ],
   "source": [
    "%%sql\n",
    "INSERT INTO Employee\n",
    "VALUES (5,Null,'Doe','johndoe@gmail.com',1,27000)"
   ]
  },
  {
   "cell_type": "code",
   "execution_count": 22,
   "id": "d3fcdf15",
   "metadata": {},
   "outputs": [
    {
     "name": "stdout",
     "output_type": "stream",
     "text": [
      " * sqlite:///my_data2.db\n",
      "Done.\n"
     ]
    },
    {
     "data": {
      "text/html": [
       "<table>\n",
       "    <tr>\n",
       "        <th>EmployeeId</th>\n",
       "        <th>FirstName</th>\n",
       "        <th>LastName</th>\n",
       "        <th>Email</th>\n",
       "        <th>DepartmentId</th>\n",
       "        <th>Salary</th>\n",
       "    </tr>\n",
       "    <tr>\n",
       "        <td>1</td>\n",
       "        <td>Aishwarya</td>\n",
       "        <td>Mandhare</td>\n",
       "        <td>Aish@gamil.com</td>\n",
       "        <td>4</td>\n",
       "        <td>90000</td>\n",
       "    </tr>\n",
       "    <tr>\n",
       "        <td>2</td>\n",
       "        <td>Sarthak</td>\n",
       "        <td>Sharma</td>\n",
       "        <td>test@test.com</td>\n",
       "        <td>1</td>\n",
       "        <td>20000</td>\n",
       "    </tr>\n",
       "    <tr>\n",
       "        <td>3</td>\n",
       "        <td>Sayali</td>\n",
       "        <td>More</td>\n",
       "        <td>example@gmail.com</td>\n",
       "        <td>2</td>\n",
       "        <td>30000</td>\n",
       "    </tr>\n",
       "    <tr>\n",
       "        <td>4</td>\n",
       "        <td>Raman</td>\n",
       "        <td>Verma</td>\n",
       "        <td>raman@gmail.com</td>\n",
       "        <td>4</td>\n",
       "        <td>40000</td>\n",
       "    </tr>\n",
       "    <tr>\n",
       "        <td>8</td>\n",
       "        <td>Raj</td>\n",
       "        <td>Malhotra</td>\n",
       "        <td>Raj@gmail.com</td>\n",
       "        <td>5</td>\n",
       "        <td>89000</td>\n",
       "    </tr>\n",
       "</table>"
      ],
      "text/plain": [
       "[(1, 'Aishwarya', 'Mandhare', 'Aish@gamil.com', 4, 90000),\n",
       " (2, 'Sarthak', 'Sharma', 'test@test.com', 1, 20000),\n",
       " (3, 'Sayali', 'More', 'example@gmail.com', 2, 30000),\n",
       " (4, 'Raman', 'Verma', 'raman@gmail.com', 4, 40000),\n",
       " (8, 'Raj', 'Malhotra', 'Raj@gmail.com', 5, 89000)]"
      ]
     },
     "execution_count": 22,
     "metadata": {},
     "output_type": "execute_result"
    }
   ],
   "source": [
    "%%sql\n",
    "SELECT * FROM EMPLOYEE"
   ]
  },
  {
   "cell_type": "code",
   "execution_count": 23,
   "id": "083e74c5",
   "metadata": {},
   "outputs": [
    {
     "name": "stdout",
     "output_type": "stream",
     "text": [
      " * sqlite:///my_data2.db\n",
      "(sqlite3.OperationalError) near \"/\": syntax error\n",
      "[SQL: INSERT INTO Employee\n",
      "VALUES (5,'John',Null,'johndoe@gmail.com',1,27000)/]\n",
      "(Background on this error at: http://sqlalche.me/e/e3q8)\n"
     ]
    }
   ],
   "source": [
    "%%sql\n",
    "INSERT INTO Employee\n",
    "VALUES (5,'John',Null,'johndoe@gmail.com',1,27000)/\n"
   ]
  },
  {
   "cell_type": "code",
   "execution_count": 24,
   "id": "ac0415b3",
   "metadata": {},
   "outputs": [
    {
     "name": "stdout",
     "output_type": "stream",
     "text": [
      " * sqlite:///my_data2.db\n",
      "Done.\n"
     ]
    },
    {
     "data": {
      "text/html": [
       "<table>\n",
       "    <tr>\n",
       "        <th>EmployeeId</th>\n",
       "        <th>FirstName</th>\n",
       "        <th>LastName</th>\n",
       "        <th>Email</th>\n",
       "        <th>DepartmentId</th>\n",
       "        <th>Salary</th>\n",
       "    </tr>\n",
       "    <tr>\n",
       "        <td>1</td>\n",
       "        <td>Aishwarya</td>\n",
       "        <td>Mandhare</td>\n",
       "        <td>Aish@gamil.com</td>\n",
       "        <td>4</td>\n",
       "        <td>90000</td>\n",
       "    </tr>\n",
       "    <tr>\n",
       "        <td>2</td>\n",
       "        <td>Sarthak</td>\n",
       "        <td>Sharma</td>\n",
       "        <td>test@test.com</td>\n",
       "        <td>1</td>\n",
       "        <td>20000</td>\n",
       "    </tr>\n",
       "    <tr>\n",
       "        <td>3</td>\n",
       "        <td>Sayali</td>\n",
       "        <td>More</td>\n",
       "        <td>example@gmail.com</td>\n",
       "        <td>2</td>\n",
       "        <td>30000</td>\n",
       "    </tr>\n",
       "    <tr>\n",
       "        <td>4</td>\n",
       "        <td>Raman</td>\n",
       "        <td>Verma</td>\n",
       "        <td>raman@gmail.com</td>\n",
       "        <td>4</td>\n",
       "        <td>40000</td>\n",
       "    </tr>\n",
       "    <tr>\n",
       "        <td>8</td>\n",
       "        <td>Raj</td>\n",
       "        <td>Malhotra</td>\n",
       "        <td>Raj@gmail.com</td>\n",
       "        <td>5</td>\n",
       "        <td>89000</td>\n",
       "    </tr>\n",
       "</table>"
      ],
      "text/plain": [
       "[(1, 'Aishwarya', 'Mandhare', 'Aish@gamil.com', 4, 90000),\n",
       " (2, 'Sarthak', 'Sharma', 'test@test.com', 1, 20000),\n",
       " (3, 'Sayali', 'More', 'example@gmail.com', 2, 30000),\n",
       " (4, 'Raman', 'Verma', 'raman@gmail.com', 4, 40000),\n",
       " (8, 'Raj', 'Malhotra', 'Raj@gmail.com', 5, 89000)]"
      ]
     },
     "execution_count": 24,
     "metadata": {},
     "output_type": "execute_result"
    }
   ],
   "source": [
    "%%sql\n",
    "SELECT * FROM Employee\n"
   ]
  },
  {
   "cell_type": "code",
   "execution_count": 25,
   "id": "c499f289",
   "metadata": {},
   "outputs": [
    {
     "name": "stdout",
     "output_type": "stream",
     "text": [
      " * sqlite:///my_data2.db\n",
      "1 rows affected.\n"
     ]
    },
    {
     "data": {
      "text/plain": [
       "[]"
      ]
     },
     "execution_count": 25,
     "metadata": {},
     "output_type": "execute_result"
    }
   ],
   "source": [
    "%%sql\n",
    "INSERT INTO Employee\n",
    "VALUES (5,'John','Doe','test@test.com',1,27000)"
   ]
  },
  {
   "cell_type": "code",
   "execution_count": 26,
   "id": "6e999af5",
   "metadata": {},
   "outputs": [
    {
     "name": "stdout",
     "output_type": "stream",
     "text": [
      " * sqlite:///my_data2.db\n",
      "(sqlite3.IntegrityError) CHECK constraint failed: Salary>0\n",
      "[SQL: INSERT INTO Employee\n",
      "VALUES (5,'John','Doe','johndoe@test.com',1,-27000)]\n",
      "(Background on this error at: http://sqlalche.me/e/gkpj)\n"
     ]
    }
   ],
   "source": [
    "%%sql\n",
    "INSERT INTO Employee\n",
    "VALUES (5,'John','Doe','johndoe@test.com',1,-27000)"
   ]
  },
  {
   "cell_type": "code",
   "execution_count": 27,
   "id": "39b4723f",
   "metadata": {},
   "outputs": [
    {
     "name": "stdout",
     "output_type": "stream",
     "text": [
      " * sqlite:///my_data2.db\n",
      "Done.\n"
     ]
    },
    {
     "data": {
      "text/html": [
       "<table>\n",
       "    <tr>\n",
       "        <th>EmployeeId</th>\n",
       "        <th>FirstName</th>\n",
       "        <th>LastName</th>\n",
       "        <th>Email</th>\n",
       "        <th>DepartmentId</th>\n",
       "        <th>Salary</th>\n",
       "    </tr>\n",
       "    <tr>\n",
       "        <td>1</td>\n",
       "        <td>Aishwarya</td>\n",
       "        <td>Mandhare</td>\n",
       "        <td>Aish@gamil.com</td>\n",
       "        <td>4</td>\n",
       "        <td>90000</td>\n",
       "    </tr>\n",
       "    <tr>\n",
       "        <td>2</td>\n",
       "        <td>Sarthak</td>\n",
       "        <td>Sharma</td>\n",
       "        <td>test@test.com</td>\n",
       "        <td>1</td>\n",
       "        <td>20000</td>\n",
       "    </tr>\n",
       "    <tr>\n",
       "        <td>3</td>\n",
       "        <td>Sayali</td>\n",
       "        <td>More</td>\n",
       "        <td>example@gmail.com</td>\n",
       "        <td>2</td>\n",
       "        <td>30000</td>\n",
       "    </tr>\n",
       "    <tr>\n",
       "        <td>4</td>\n",
       "        <td>Raman</td>\n",
       "        <td>Verma</td>\n",
       "        <td>raman@gmail.com</td>\n",
       "        <td>4</td>\n",
       "        <td>40000</td>\n",
       "    </tr>\n",
       "    <tr>\n",
       "        <td>8</td>\n",
       "        <td>Raj</td>\n",
       "        <td>Malhotra</td>\n",
       "        <td>Raj@gmail.com</td>\n",
       "        <td>5</td>\n",
       "        <td>89000</td>\n",
       "    </tr>\n",
       "    <tr>\n",
       "        <td>5</td>\n",
       "        <td>John</td>\n",
       "        <td>Doe</td>\n",
       "        <td>test@test.com</td>\n",
       "        <td>1</td>\n",
       "        <td>27000</td>\n",
       "    </tr>\n",
       "</table>"
      ],
      "text/plain": [
       "[(1, 'Aishwarya', 'Mandhare', 'Aish@gamil.com', 4, 90000),\n",
       " (2, 'Sarthak', 'Sharma', 'test@test.com', 1, 20000),\n",
       " (3, 'Sayali', 'More', 'example@gmail.com', 2, 30000),\n",
       " (4, 'Raman', 'Verma', 'raman@gmail.com', 4, 40000),\n",
       " (8, 'Raj', 'Malhotra', 'Raj@gmail.com', 5, 89000),\n",
       " (5, 'John', 'Doe', 'test@test.com', 1, 27000)]"
      ]
     },
     "execution_count": 27,
     "metadata": {},
     "output_type": "execute_result"
    }
   ],
   "source": [
    "%%sql\n",
    "SELECT * FROM Employee"
   ]
  },
  {
   "cell_type": "code",
   "execution_count": 28,
   "id": "1c5553c9",
   "metadata": {},
   "outputs": [
    {
     "name": "stdout",
     "output_type": "stream",
     "text": [
      " * sqlite:///my_data2.db\n",
      "(sqlite3.IntegrityError) UNIQUE constraint failed: employee.EmployeeId\n",
      "[SQL: INSERT INTO Employee\n",
      "VALUES (5,'John','Doe','johndoe@test.com',1,27000)]\n",
      "(Background on this error at: http://sqlalche.me/e/gkpj)\n"
     ]
    }
   ],
   "source": [
    "%%sql \n",
    "INSERT INTO Employee\n",
    "VALUES (5,'John','Doe','johndoe@test.com',1,27000)"
   ]
  },
  {
   "cell_type": "code",
   "execution_count": 29,
   "id": "51e835ef",
   "metadata": {},
   "outputs": [
    {
     "name": "stdout",
     "output_type": "stream",
     "text": [
      " * sqlite:///my_data2.db\n",
      "Done.\n"
     ]
    },
    {
     "data": {
      "text/html": [
       "<table>\n",
       "    <tr>\n",
       "        <th>EmployeeId</th>\n",
       "        <th>FirstName</th>\n",
       "        <th>LastName</th>\n",
       "        <th>Email</th>\n",
       "        <th>DepartmentId</th>\n",
       "        <th>Salary</th>\n",
       "    </tr>\n",
       "    <tr>\n",
       "        <td>1</td>\n",
       "        <td>Aishwarya</td>\n",
       "        <td>Mandhare</td>\n",
       "        <td>Aish@gamil.com</td>\n",
       "        <td>4</td>\n",
       "        <td>90000</td>\n",
       "    </tr>\n",
       "    <tr>\n",
       "        <td>2</td>\n",
       "        <td>Sarthak</td>\n",
       "        <td>Sharma</td>\n",
       "        <td>test@test.com</td>\n",
       "        <td>1</td>\n",
       "        <td>20000</td>\n",
       "    </tr>\n",
       "    <tr>\n",
       "        <td>3</td>\n",
       "        <td>Sayali</td>\n",
       "        <td>More</td>\n",
       "        <td>example@gmail.com</td>\n",
       "        <td>2</td>\n",
       "        <td>30000</td>\n",
       "    </tr>\n",
       "    <tr>\n",
       "        <td>4</td>\n",
       "        <td>Raman</td>\n",
       "        <td>Verma</td>\n",
       "        <td>raman@gmail.com</td>\n",
       "        <td>4</td>\n",
       "        <td>40000</td>\n",
       "    </tr>\n",
       "    <tr>\n",
       "        <td>8</td>\n",
       "        <td>Raj</td>\n",
       "        <td>Malhotra</td>\n",
       "        <td>Raj@gmail.com</td>\n",
       "        <td>5</td>\n",
       "        <td>89000</td>\n",
       "    </tr>\n",
       "    <tr>\n",
       "        <td>5</td>\n",
       "        <td>John</td>\n",
       "        <td>Doe</td>\n",
       "        <td>test@test.com</td>\n",
       "        <td>1</td>\n",
       "        <td>27000</td>\n",
       "    </tr>\n",
       "</table>"
      ],
      "text/plain": [
       "[(1, 'Aishwarya', 'Mandhare', 'Aish@gamil.com', 4, 90000),\n",
       " (2, 'Sarthak', 'Sharma', 'test@test.com', 1, 20000),\n",
       " (3, 'Sayali', 'More', 'example@gmail.com', 2, 30000),\n",
       " (4, 'Raman', 'Verma', 'raman@gmail.com', 4, 40000),\n",
       " (8, 'Raj', 'Malhotra', 'Raj@gmail.com', 5, 89000),\n",
       " (5, 'John', 'Doe', 'test@test.com', 1, 27000)]"
      ]
     },
     "execution_count": 29,
     "metadata": {},
     "output_type": "execute_result"
    }
   ],
   "source": [
    "%%sql\n",
    "SELECT * FROM Employee"
   ]
  },
  {
   "cell_type": "markdown",
   "id": "6eb5f26e",
   "metadata": {},
   "source": [
    "## Close the connection in END"
   ]
  },
  {
   "cell_type": "code",
   "execution_count": 30,
   "id": "3434ba07",
   "metadata": {},
   "outputs": [],
   "source": [
    "con.close()"
   ]
  },
  {
   "cell_type": "code",
   "execution_count": null,
   "id": "e93e76ca",
   "metadata": {},
   "outputs": [],
   "source": []
  }
 ],
 "metadata": {
  "kernelspec": {
   "display_name": "Python 3 (ipykernel)",
   "language": "python",
   "name": "python3"
  },
  "language_info": {
   "codemirror_mode": {
    "name": "ipython",
    "version": 3
   },
   "file_extension": ".py",
   "mimetype": "text/x-python",
   "name": "python",
   "nbconvert_exporter": "python",
   "pygments_lexer": "ipython3",
   "version": "3.9.12"
  }
 },
 "nbformat": 4,
 "nbformat_minor": 5
}
